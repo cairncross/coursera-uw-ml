{
 "cells": [
  {
   "cell_type": "markdown",
   "metadata": {},
   "source": [
    "# Import pandas"
   ]
  },
  {
   "cell_type": "code",
   "execution_count": 190,
   "metadata": {
    "collapsed": true
   },
   "outputs": [],
   "source": [
    "import pandas"
   ]
  },
  {
   "cell_type": "code",
   "execution_count": 191,
   "metadata": {
    "collapsed": false
   },
   "outputs": [],
   "source": [
    "selected_words = ['awesome', 'great', 'fantastic', 'amazing', 'love', 'horrible', 'bad', 'terrible', 'awful', 'wow', 'hate']"
   ]
  },
  {
   "cell_type": "markdown",
   "metadata": {},
   "source": [
    "# Load product data"
   ]
  },
  {
   "cell_type": "code",
   "execution_count": 192,
   "metadata": {
    "collapsed": true
   },
   "outputs": [],
   "source": [
    "products = pandas.read_csv('amazon_baby.csv')"
   ]
  },
  {
   "cell_type": "markdown",
   "metadata": {},
   "source": [
    "# View data"
   ]
  },
  {
   "cell_type": "code",
   "execution_count": 196,
   "metadata": {
    "collapsed": false
   },
   "outputs": [
    {
     "data": {
      "text/html": [
       "<div>\n",
       "<table border=\"1\" class=\"dataframe\">\n",
       "  <thead>\n",
       "    <tr style=\"text-align: right;\">\n",
       "      <th></th>\n",
       "      <th>name</th>\n",
       "      <th>review</th>\n",
       "      <th>rating</th>\n",
       "    </tr>\n",
       "  </thead>\n",
       "  <tbody>\n",
       "    <tr>\n",
       "      <th>0</th>\n",
       "      <td>Planetwise Flannel Wipes</td>\n",
       "      <td>These flannel wipes are OK, but in my opinion ...</td>\n",
       "      <td>3</td>\n",
       "    </tr>\n",
       "    <tr>\n",
       "      <th>1</th>\n",
       "      <td>Planetwise Wipe Pouch</td>\n",
       "      <td>it came early and was not disappointed. i love...</td>\n",
       "      <td>5</td>\n",
       "    </tr>\n",
       "    <tr>\n",
       "      <th>2</th>\n",
       "      <td>Annas Dream Full Quilt with 2 Shams</td>\n",
       "      <td>Very soft and comfortable and warmer than it l...</td>\n",
       "      <td>5</td>\n",
       "    </tr>\n",
       "    <tr>\n",
       "      <th>3</th>\n",
       "      <td>Stop Pacifier Sucking without tears with Thumb...</td>\n",
       "      <td>This is a product well worth the purchase.  I ...</td>\n",
       "      <td>5</td>\n",
       "    </tr>\n",
       "    <tr>\n",
       "      <th>4</th>\n",
       "      <td>Stop Pacifier Sucking without tears with Thumb...</td>\n",
       "      <td>All of my kids have cried non-stop when I trie...</td>\n",
       "      <td>5</td>\n",
       "    </tr>\n",
       "  </tbody>\n",
       "</table>\n",
       "</div>"
      ],
      "text/plain": [
       "                                                name  \\\n",
       "0                           Planetwise Flannel Wipes   \n",
       "1                              Planetwise Wipe Pouch   \n",
       "2                Annas Dream Full Quilt with 2 Shams   \n",
       "3  Stop Pacifier Sucking without tears with Thumb...   \n",
       "4  Stop Pacifier Sucking without tears with Thumb...   \n",
       "\n",
       "                                              review  rating  \n",
       "0  These flannel wipes are OK, but in my opinion ...       3  \n",
       "1  it came early and was not disappointed. i love...       5  \n",
       "2  Very soft and comfortable and warmer than it l...       5  \n",
       "3  This is a product well worth the purchase.  I ...       5  \n",
       "4  All of my kids have cried non-stop when I trie...       5  "
      ]
     },
     "execution_count": 196,
     "metadata": {},
     "output_type": "execute_result"
    }
   ],
   "source": [
    "products.head()"
   ]
  },
  {
   "cell_type": "code",
   "execution_count": 197,
   "metadata": {
    "collapsed": false
   },
   "outputs": [
    {
     "data": {
      "text/plain": [
       "183531"
      ]
     },
     "execution_count": 197,
     "metadata": {},
     "output_type": "execute_result"
    }
   ],
   "source": [
    "len(products)"
   ]
  },
  {
   "cell_type": "code",
   "execution_count": 189,
   "metadata": {
    "collapsed": false
   },
   "outputs": [
    {
     "data": {
      "text/html": [
       "<div>\n",
       "<table border=\"1\" class=\"dataframe\">\n",
       "  <thead>\n",
       "    <tr style=\"text-align: right;\">\n",
       "      <th></th>\n",
       "      <th>rating</th>\n",
       "    </tr>\n",
       "  </thead>\n",
       "  <tbody>\n",
       "    <tr>\n",
       "      <th>count</th>\n",
       "      <td>183531.000000</td>\n",
       "    </tr>\n",
       "    <tr>\n",
       "      <th>mean</th>\n",
       "      <td>4.120448</td>\n",
       "    </tr>\n",
       "    <tr>\n",
       "      <th>std</th>\n",
       "      <td>1.285017</td>\n",
       "    </tr>\n",
       "    <tr>\n",
       "      <th>min</th>\n",
       "      <td>1.000000</td>\n",
       "    </tr>\n",
       "    <tr>\n",
       "      <th>25%</th>\n",
       "      <td>4.000000</td>\n",
       "    </tr>\n",
       "    <tr>\n",
       "      <th>50%</th>\n",
       "      <td>5.000000</td>\n",
       "    </tr>\n",
       "    <tr>\n",
       "      <th>75%</th>\n",
       "      <td>5.000000</td>\n",
       "    </tr>\n",
       "    <tr>\n",
       "      <th>max</th>\n",
       "      <td>5.000000</td>\n",
       "    </tr>\n",
       "  </tbody>\n",
       "</table>\n",
       "</div>"
      ],
      "text/plain": [
       "              rating\n",
       "count  183531.000000\n",
       "mean        4.120448\n",
       "std         1.285017\n",
       "min         1.000000\n",
       "25%         4.000000\n",
       "50%         5.000000\n",
       "75%         5.000000\n",
       "max         5.000000"
      ]
     },
     "execution_count": 189,
     "metadata": {},
     "output_type": "execute_result"
    }
   ],
   "source": [
    "products.describe()"
   ]
  },
  {
   "cell_type": "code",
   "execution_count": 198,
   "metadata": {
    "collapsed": false
   },
   "outputs": [
    {
     "data": {
      "text/html": [
       "<div>\n",
       "<table border=\"1\" class=\"dataframe\">\n",
       "  <thead>\n",
       "    <tr style=\"text-align: right;\">\n",
       "      <th></th>\n",
       "      <th>name</th>\n",
       "      <th>review</th>\n",
       "      <th>rating</th>\n",
       "    </tr>\n",
       "  </thead>\n",
       "  <tbody>\n",
       "    <tr>\n",
       "      <th>183526</th>\n",
       "      <td>Baby Teething Necklace for Mom Pretty Donut Sh...</td>\n",
       "      <td>Such a great idea! very handy to have and look...</td>\n",
       "      <td>5</td>\n",
       "    </tr>\n",
       "    <tr>\n",
       "      <th>183527</th>\n",
       "      <td>Baby Teething Necklace for Mom Pretty Donut Sh...</td>\n",
       "      <td>This product rocks!  It is a great blend of fu...</td>\n",
       "      <td>5</td>\n",
       "    </tr>\n",
       "    <tr>\n",
       "      <th>183528</th>\n",
       "      <td>Abstract 2 PK Baby / Toddler Training Cup (Pink)</td>\n",
       "      <td>This item looks great and cool for my kids.......</td>\n",
       "      <td>5</td>\n",
       "    </tr>\n",
       "    <tr>\n",
       "      <th>183529</th>\n",
       "      <td>Baby Food Freezer Tray - Bacteria Resistant, B...</td>\n",
       "      <td>I am extremely happy with this product. I have...</td>\n",
       "      <td>5</td>\n",
       "    </tr>\n",
       "    <tr>\n",
       "      <th>183530</th>\n",
       "      <td>Best 2 Pack Baby Car Shade for Kids - Window S...</td>\n",
       "      <td>I love this product very mush . I have bought ...</td>\n",
       "      <td>5</td>\n",
       "    </tr>\n",
       "  </tbody>\n",
       "</table>\n",
       "</div>"
      ],
      "text/plain": [
       "                                                     name  \\\n",
       "183526  Baby Teething Necklace for Mom Pretty Donut Sh...   \n",
       "183527  Baby Teething Necklace for Mom Pretty Donut Sh...   \n",
       "183528   Abstract 2 PK Baby / Toddler Training Cup (Pink)   \n",
       "183529  Baby Food Freezer Tray - Bacteria Resistant, B...   \n",
       "183530  Best 2 Pack Baby Car Shade for Kids - Window S...   \n",
       "\n",
       "                                                   review  rating  \n",
       "183526  Such a great idea! very handy to have and look...       5  \n",
       "183527  This product rocks!  It is a great blend of fu...       5  \n",
       "183528  This item looks great and cool for my kids.......       5  \n",
       "183529  I am extremely happy with this product. I have...       5  \n",
       "183530  I love this product very mush . I have bought ...       5  "
      ]
     },
     "execution_count": 198,
     "metadata": {},
     "output_type": "execute_result"
    }
   ],
   "source": [
    "products.tail()"
   ]
  },
  {
   "cell_type": "markdown",
   "metadata": {},
   "source": [
    "# Split review string"
   ]
  },
  {
   "cell_type": "code",
   "execution_count": 199,
   "metadata": {
    "collapsed": false
   },
   "outputs": [],
   "source": [
    "products['review_split'] = products['review'].str.lower().str.split()"
   ]
  },
  {
   "cell_type": "code",
   "execution_count": 140,
   "metadata": {
    "collapsed": false
   },
   "outputs": [
    {
     "data": {
      "text/plain": [
       "0         [these, flannel, wipes, are, ok,, but, in, my,...\n",
       "1         [it, came, early, and, was, not, disappointed....\n",
       "2         [very, soft, and, comfortable, and, warmer, th...\n",
       "3         [this, is, a, product, well, worth, the, purch...\n",
       "4         [all, of, my, kids, have, cried, non-stop, whe...\n",
       "5         [when, the, binky, fairy, came, to, our, house...\n",
       "6         [lovely, book,, it's, bound, tightly, so, you,...\n",
       "7         [perfect, for, new, parents., we, were, able, ...\n",
       "8         [a, friend, of, mine, pinned, this, product, o...\n",
       "9         [this, has, been, an, easy, way, for, my, nann...\n",
       "10        [i, love, this, journal, and, our, nanny, uses...\n",
       "11        [this, book, is, perfect!, i'm, a, first, time...\n",
       "12        [i, originally, just, gave, the, nanny, a, pad...\n",
       "13        [i, thought, keeping, a, simple, handwritten, ...\n",
       "14        [space, for, monthly, photos,, info, and, a, l...\n",
       "15        [i, bought, this, calender, for, myself, for, ...\n",
       "16        [i, love, this, little, calender,, you, can, k...\n",
       "17        [this, was, the, only, calender, i, could, fin...\n",
       "18        [i, completed, a, calendar, for, my, son's, fi...\n",
       "19        [we, wanted, to, get, something, to, keep, tra...\n",
       "20        [i, had, a, hard, time, finding, a, second, ye...\n",
       "21        [i, only, purchased, a, second-year, calendar,...\n",
       "22        [i, love, this, calendar, for, recording, even...\n",
       "23        [calendar, is, exactly, as, described,, but, i...\n",
       "24        [wife, loves, this, calender., comes, with, a,...\n",
       "25        [my, daughter, had, her, 1st, baby, over, a, y...\n",
       "26        [extremely, useful!, as, a, new, mom,, tired, ...\n",
       "27        [my, son, loves, peek, a, boo, at, this, age, ...\n",
       "28        [one, of, baby's, first, and, favorite, books,...\n",
       "29        [i, like, how, the, book, has, a, hook, to, at...\n",
       "                                ...                        \n",
       "183501    [i, received, a, free, sample, from, vipu, pro...\n",
       "183502    [it, got, here, incredibly, fast, &, it, is, a...\n",
       "183503    [i, got, this, case, in, the, mail, today,, it...\n",
       "183504    [free, caselove, it..., the, color, was, great...\n",
       "183505    [i, received, a, free, sample, from, vipu, pro...\n",
       "183506    [this, case, definitely, isn't, cheap., it, fe...\n",
       "183507    [got, this, for, my, wife, and, she, loves, it...\n",
       "183508    [love, this, case., it, fit, perfectly, and, t...\n",
       "183509    [this, case, is, the, greatest, very, cool, an...\n",
       "183510       [great, fit., really, love, how, red, it, is.]\n",
       "183511    [i, received, a, free, sample, from, vipu, pro...\n",
       "183512    [*i, received, a, free, sample, from, vipu, pr...\n",
       "183513    [i, was, a, very, surprised, by, the, quality,...\n",
       "183514    [i, received, a, free, sample, from, vipu, pro...\n",
       "183515    [i, love, this, phone, case!, my, iphone, is, ...\n",
       "183516    [i've, ordered, a, ton, of, &#34;suckers&#34;,...\n",
       "183517    [i, recieved, this, product, free, of, charge,...\n",
       "183518    [the, tube, is, soft, and, easy, to, use,, and...\n",
       "183519    [i, love, this, so, much., it, works, way, bet...\n",
       "183520    [the, aspirator, works, well, but, needs, to, ...\n",
       "183521    [up, until, recently, i, have, hated, flying,,...\n",
       "183522    [i, bought, this, as, a, father's, day, gift, ...\n",
       "183523    [i, love, that, these, can, hold, purees, or, ...\n",
       "183524    [i, love, this, product,, it, makes, my, life,...\n",
       "183525    [this, reusable, squeeze, bottle, is, the, bes...\n",
       "183526    [such, a, great, idea!, very, handy, to, have,...\n",
       "183527    [this, product, rocks!, it, is, a, great, blen...\n",
       "183528    [this, item, looks, great, and, cool, for, my,...\n",
       "183529    [i, am, extremely, happy, with, this, product....\n",
       "183530    [i, love, this, product, very, mush, ., i, hav...\n",
       "Name: review_split, dtype: object"
      ]
     },
     "execution_count": 140,
     "metadata": {},
     "output_type": "execute_result"
    }
   ],
   "source": [
    "products['review_split']"
   ]
  },
  {
   "cell_type": "markdown",
   "metadata": {
    "collapsed": false
   },
   "source": [
    "# Add word_count column"
   ]
  },
  {
   "cell_type": "code",
   "execution_count": 210,
   "metadata": {
    "collapsed": false
   },
   "outputs": [],
   "source": [
    "def get_word_count_dict(row):\n",
    "    my_dict = {}\n",
    "    if type(row) is float:\n",
    "        my_dict = {}\n",
    "    else:\n",
    "        for item in row:\n",
    "            my_dict[item] = item.count(item)\n",
    "    return my_dict"
   ]
  },
  {
   "cell_type": "code",
   "execution_count": 211,
   "metadata": {
    "collapsed": false
   },
   "outputs": [
    {
     "data": {
      "text/plain": [
       "{'bar': 1, 'bax': 1, 'foo': 1}"
      ]
     },
     "execution_count": 211,
     "metadata": {},
     "output_type": "execute_result"
    }
   ],
   "source": [
    "get_word_count_dict(['foo', 'bar', 'bax'])"
   ]
  },
  {
   "cell_type": "code",
   "execution_count": 212,
   "metadata": {
    "collapsed": false
   },
   "outputs": [],
   "source": [
    "products['word_count'] = products['review_split'].apply(lambda x: get_word_count_dict(x))"
   ]
  },
  {
   "cell_type": "markdown",
   "metadata": {},
   "source": [
    "# Add selected_word columns"
   ]
  },
  {
   "cell_type": "code",
   "execution_count": 216,
   "metadata": {
    "collapsed": true
   },
   "outputs": [],
   "source": [
    "def create_word_col(word_count, word):\n",
    "    count = 0\n",
    "    if type(word_count) is not float:\n",
    "        if word in word_count:\n",
    "            return word_count[word]\n",
    "        else:\n",
    "            return 0"
   ]
  },
  {
   "cell_type": "code",
   "execution_count": 217,
   "metadata": {
    "collapsed": false
   },
   "outputs": [],
   "source": [
    "for word in selected_words:\n",
    "    products[word] = products['word_count'].apply(lambda x: create_word_col(x, word))"
   ]
  },
  {
   "cell_type": "code",
   "execution_count": 218,
   "metadata": {
    "collapsed": false
   },
   "outputs": [
    {
     "data": {
      "text/html": [
       "<div>\n",
       "<table border=\"1\" class=\"dataframe\">\n",
       "  <thead>\n",
       "    <tr style=\"text-align: right;\">\n",
       "      <th></th>\n",
       "      <th>name</th>\n",
       "      <th>review</th>\n",
       "      <th>rating</th>\n",
       "      <th>review_split</th>\n",
       "      <th>word_count</th>\n",
       "      <th>awesome</th>\n",
       "      <th>great</th>\n",
       "      <th>fantastic</th>\n",
       "      <th>amazing</th>\n",
       "      <th>love</th>\n",
       "      <th>horrible</th>\n",
       "      <th>bad</th>\n",
       "      <th>terrible</th>\n",
       "      <th>awful</th>\n",
       "      <th>wow</th>\n",
       "      <th>hate</th>\n",
       "    </tr>\n",
       "  </thead>\n",
       "  <tbody>\n",
       "    <tr>\n",
       "      <th>0</th>\n",
       "      <td>Planetwise Flannel Wipes</td>\n",
       "      <td>These flannel wipes are OK, but in my opinion ...</td>\n",
       "      <td>3</td>\n",
       "      <td>[these, flannel, wipes, are, ok,, but, in, my,...</td>\n",
       "      <td>{u'and': 1, u'wipes,': 1, u'because': 1, u'ord...</td>\n",
       "      <td>0</td>\n",
       "      <td>0</td>\n",
       "      <td>0</td>\n",
       "      <td>0</td>\n",
       "      <td>0</td>\n",
       "      <td>0</td>\n",
       "      <td>0</td>\n",
       "      <td>0</td>\n",
       "      <td>0</td>\n",
       "      <td>0</td>\n",
       "      <td>0</td>\n",
       "    </tr>\n",
       "    <tr>\n",
       "      <th>1</th>\n",
       "      <td>Planetwise Wipe Pouch</td>\n",
       "      <td>it came early and was not disappointed. i love...</td>\n",
       "      <td>5</td>\n",
       "      <td>[it, came, early, and, was, not, disappointed....</td>\n",
       "      <td>{u'and': 1, u'love': 1, u'it': 1, u'highly': 1...</td>\n",
       "      <td>0</td>\n",
       "      <td>0</td>\n",
       "      <td>0</td>\n",
       "      <td>0</td>\n",
       "      <td>1</td>\n",
       "      <td>0</td>\n",
       "      <td>0</td>\n",
       "      <td>0</td>\n",
       "      <td>0</td>\n",
       "      <td>0</td>\n",
       "      <td>0</td>\n",
       "    </tr>\n",
       "    <tr>\n",
       "      <th>2</th>\n",
       "      <td>Annas Dream Full Quilt with 2 Shams</td>\n",
       "      <td>Very soft and comfortable and warmer than it l...</td>\n",
       "      <td>5</td>\n",
       "      <td>[very, soft, and, comfortable, and, warmer, th...</td>\n",
       "      <td>{u'and': 1, u'quilt': 1, u'it': 1, u'comfortab...</td>\n",
       "      <td>0</td>\n",
       "      <td>0</td>\n",
       "      <td>0</td>\n",
       "      <td>0</td>\n",
       "      <td>0</td>\n",
       "      <td>0</td>\n",
       "      <td>0</td>\n",
       "      <td>0</td>\n",
       "      <td>0</td>\n",
       "      <td>0</td>\n",
       "      <td>0</td>\n",
       "    </tr>\n",
       "    <tr>\n",
       "      <th>3</th>\n",
       "      <td>Stop Pacifier Sucking without tears with Thumb...</td>\n",
       "      <td>This is a product well worth the purchase.  I ...</td>\n",
       "      <td>5</td>\n",
       "      <td>[this, is, a, product, well, worth, the, purch...</td>\n",
       "      <td>{u'and': 1, u'ingenious': 1, u'love': 1, u'pos...</td>\n",
       "      <td>0</td>\n",
       "      <td>0</td>\n",
       "      <td>0</td>\n",
       "      <td>0</td>\n",
       "      <td>1</td>\n",
       "      <td>0</td>\n",
       "      <td>0</td>\n",
       "      <td>0</td>\n",
       "      <td>0</td>\n",
       "      <td>0</td>\n",
       "      <td>0</td>\n",
       "    </tr>\n",
       "    <tr>\n",
       "      <th>4</th>\n",
       "      <td>Stop Pacifier Sucking without tears with Thumb...</td>\n",
       "      <td>All of my kids have cried non-stop when I trie...</td>\n",
       "      <td>5</td>\n",
       "      <td>[all, of, my, kids, have, cried, non-stop, whe...</td>\n",
       "      <td>{u'and': 1, u'parents!!': 1, u'all': 1, u'help...</td>\n",
       "      <td>0</td>\n",
       "      <td>1</td>\n",
       "      <td>0</td>\n",
       "      <td>0</td>\n",
       "      <td>0</td>\n",
       "      <td>0</td>\n",
       "      <td>0</td>\n",
       "      <td>0</td>\n",
       "      <td>0</td>\n",
       "      <td>0</td>\n",
       "      <td>0</td>\n",
       "    </tr>\n",
       "  </tbody>\n",
       "</table>\n",
       "</div>"
      ],
      "text/plain": [
       "                                                name  \\\n",
       "0                           Planetwise Flannel Wipes   \n",
       "1                              Planetwise Wipe Pouch   \n",
       "2                Annas Dream Full Quilt with 2 Shams   \n",
       "3  Stop Pacifier Sucking without tears with Thumb...   \n",
       "4  Stop Pacifier Sucking without tears with Thumb...   \n",
       "\n",
       "                                              review  rating  \\\n",
       "0  These flannel wipes are OK, but in my opinion ...       3   \n",
       "1  it came early and was not disappointed. i love...       5   \n",
       "2  Very soft and comfortable and warmer than it l...       5   \n",
       "3  This is a product well worth the purchase.  I ...       5   \n",
       "4  All of my kids have cried non-stop when I trie...       5   \n",
       "\n",
       "                                        review_split  \\\n",
       "0  [these, flannel, wipes, are, ok,, but, in, my,...   \n",
       "1  [it, came, early, and, was, not, disappointed....   \n",
       "2  [very, soft, and, comfortable, and, warmer, th...   \n",
       "3  [this, is, a, product, well, worth, the, purch...   \n",
       "4  [all, of, my, kids, have, cried, non-stop, whe...   \n",
       "\n",
       "                                          word_count  awesome  great  \\\n",
       "0  {u'and': 1, u'wipes,': 1, u'because': 1, u'ord...        0      0   \n",
       "1  {u'and': 1, u'love': 1, u'it': 1, u'highly': 1...        0      0   \n",
       "2  {u'and': 1, u'quilt': 1, u'it': 1, u'comfortab...        0      0   \n",
       "3  {u'and': 1, u'ingenious': 1, u'love': 1, u'pos...        0      0   \n",
       "4  {u'and': 1, u'parents!!': 1, u'all': 1, u'help...        0      1   \n",
       "\n",
       "   fantastic  amazing  love  horrible  bad  terrible  awful  wow  hate  \n",
       "0          0        0     0         0    0         0      0    0     0  \n",
       "1          0        0     1         0    0         0      0    0     0  \n",
       "2          0        0     0         0    0         0      0    0     0  \n",
       "3          0        0     1         0    0         0      0    0     0  \n",
       "4          0        0     0         0    0         0      0    0     0  "
      ]
     },
     "execution_count": 218,
     "metadata": {},
     "output_type": "execute_result"
    }
   ],
   "source": [
    "products.head()"
   ]
  },
  {
   "cell_type": "markdown",
   "metadata": {},
   "source": [
    "# Add awesome_count for validation"
   ]
  },
  {
   "cell_type": "code",
   "execution_count": 219,
   "metadata": {
    "collapsed": true
   },
   "outputs": [],
   "source": [
    "def awesome_count(word_count):\n",
    "    if 'awesome' in word_count:\n",
    "        return word_count['awesome']\n",
    "    else:\n",
    "        return 0"
   ]
  },
  {
   "cell_type": "code",
   "execution_count": 220,
   "metadata": {
    "collapsed": true
   },
   "outputs": [],
   "source": [
    "products['awesome_count'] = products['word_count'].apply(lambda x: awesome_count(x))"
   ]
  },
  {
   "cell_type": "code",
   "execution_count": 221,
   "metadata": {
    "collapsed": false
   },
   "outputs": [
    {
     "data": {
      "text/html": [
       "<div>\n",
       "<table border=\"1\" class=\"dataframe\">\n",
       "  <thead>\n",
       "    <tr style=\"text-align: right;\">\n",
       "      <th></th>\n",
       "      <th>name</th>\n",
       "      <th>review</th>\n",
       "      <th>rating</th>\n",
       "      <th>review_split</th>\n",
       "      <th>word_count</th>\n",
       "      <th>awesome</th>\n",
       "      <th>great</th>\n",
       "      <th>fantastic</th>\n",
       "      <th>amazing</th>\n",
       "      <th>love</th>\n",
       "      <th>horrible</th>\n",
       "      <th>bad</th>\n",
       "      <th>terrible</th>\n",
       "      <th>awful</th>\n",
       "      <th>wow</th>\n",
       "      <th>hate</th>\n",
       "      <th>awesome_count</th>\n",
       "    </tr>\n",
       "  </thead>\n",
       "  <tbody>\n",
       "    <tr>\n",
       "      <th>0</th>\n",
       "      <td>Planetwise Flannel Wipes</td>\n",
       "      <td>These flannel wipes are OK, but in my opinion ...</td>\n",
       "      <td>3</td>\n",
       "      <td>[these, flannel, wipes, are, ok,, but, in, my,...</td>\n",
       "      <td>{u'and': 1, u'wipes,': 1, u'because': 1, u'ord...</td>\n",
       "      <td>0</td>\n",
       "      <td>0</td>\n",
       "      <td>0</td>\n",
       "      <td>0</td>\n",
       "      <td>0</td>\n",
       "      <td>0</td>\n",
       "      <td>0</td>\n",
       "      <td>0</td>\n",
       "      <td>0</td>\n",
       "      <td>0</td>\n",
       "      <td>0</td>\n",
       "      <td>0</td>\n",
       "    </tr>\n",
       "    <tr>\n",
       "      <th>1</th>\n",
       "      <td>Planetwise Wipe Pouch</td>\n",
       "      <td>it came early and was not disappointed. i love...</td>\n",
       "      <td>5</td>\n",
       "      <td>[it, came, early, and, was, not, disappointed....</td>\n",
       "      <td>{u'and': 1, u'love': 1, u'it': 1, u'highly': 1...</td>\n",
       "      <td>0</td>\n",
       "      <td>0</td>\n",
       "      <td>0</td>\n",
       "      <td>0</td>\n",
       "      <td>1</td>\n",
       "      <td>0</td>\n",
       "      <td>0</td>\n",
       "      <td>0</td>\n",
       "      <td>0</td>\n",
       "      <td>0</td>\n",
       "      <td>0</td>\n",
       "      <td>0</td>\n",
       "    </tr>\n",
       "    <tr>\n",
       "      <th>2</th>\n",
       "      <td>Annas Dream Full Quilt with 2 Shams</td>\n",
       "      <td>Very soft and comfortable and warmer than it l...</td>\n",
       "      <td>5</td>\n",
       "      <td>[very, soft, and, comfortable, and, warmer, th...</td>\n",
       "      <td>{u'and': 1, u'quilt': 1, u'it': 1, u'comfortab...</td>\n",
       "      <td>0</td>\n",
       "      <td>0</td>\n",
       "      <td>0</td>\n",
       "      <td>0</td>\n",
       "      <td>0</td>\n",
       "      <td>0</td>\n",
       "      <td>0</td>\n",
       "      <td>0</td>\n",
       "      <td>0</td>\n",
       "      <td>0</td>\n",
       "      <td>0</td>\n",
       "      <td>0</td>\n",
       "    </tr>\n",
       "    <tr>\n",
       "      <th>3</th>\n",
       "      <td>Stop Pacifier Sucking without tears with Thumb...</td>\n",
       "      <td>This is a product well worth the purchase.  I ...</td>\n",
       "      <td>5</td>\n",
       "      <td>[this, is, a, product, well, worth, the, purch...</td>\n",
       "      <td>{u'and': 1, u'ingenious': 1, u'love': 1, u'pos...</td>\n",
       "      <td>0</td>\n",
       "      <td>0</td>\n",
       "      <td>0</td>\n",
       "      <td>0</td>\n",
       "      <td>1</td>\n",
       "      <td>0</td>\n",
       "      <td>0</td>\n",
       "      <td>0</td>\n",
       "      <td>0</td>\n",
       "      <td>0</td>\n",
       "      <td>0</td>\n",
       "      <td>0</td>\n",
       "    </tr>\n",
       "    <tr>\n",
       "      <th>4</th>\n",
       "      <td>Stop Pacifier Sucking without tears with Thumb...</td>\n",
       "      <td>All of my kids have cried non-stop when I trie...</td>\n",
       "      <td>5</td>\n",
       "      <td>[all, of, my, kids, have, cried, non-stop, whe...</td>\n",
       "      <td>{u'and': 1, u'parents!!': 1, u'all': 1, u'help...</td>\n",
       "      <td>0</td>\n",
       "      <td>1</td>\n",
       "      <td>0</td>\n",
       "      <td>0</td>\n",
       "      <td>0</td>\n",
       "      <td>0</td>\n",
       "      <td>0</td>\n",
       "      <td>0</td>\n",
       "      <td>0</td>\n",
       "      <td>0</td>\n",
       "      <td>0</td>\n",
       "      <td>0</td>\n",
       "    </tr>\n",
       "  </tbody>\n",
       "</table>\n",
       "</div>"
      ],
      "text/plain": [
       "                                                name  \\\n",
       "0                           Planetwise Flannel Wipes   \n",
       "1                              Planetwise Wipe Pouch   \n",
       "2                Annas Dream Full Quilt with 2 Shams   \n",
       "3  Stop Pacifier Sucking without tears with Thumb...   \n",
       "4  Stop Pacifier Sucking without tears with Thumb...   \n",
       "\n",
       "                                              review  rating  \\\n",
       "0  These flannel wipes are OK, but in my opinion ...       3   \n",
       "1  it came early and was not disappointed. i love...       5   \n",
       "2  Very soft and comfortable and warmer than it l...       5   \n",
       "3  This is a product well worth the purchase.  I ...       5   \n",
       "4  All of my kids have cried non-stop when I trie...       5   \n",
       "\n",
       "                                        review_split  \\\n",
       "0  [these, flannel, wipes, are, ok,, but, in, my,...   \n",
       "1  [it, came, early, and, was, not, disappointed....   \n",
       "2  [very, soft, and, comfortable, and, warmer, th...   \n",
       "3  [this, is, a, product, well, worth, the, purch...   \n",
       "4  [all, of, my, kids, have, cried, non-stop, whe...   \n",
       "\n",
       "                                          word_count  awesome  great  \\\n",
       "0  {u'and': 1, u'wipes,': 1, u'because': 1, u'ord...        0      0   \n",
       "1  {u'and': 1, u'love': 1, u'it': 1, u'highly': 1...        0      0   \n",
       "2  {u'and': 1, u'quilt': 1, u'it': 1, u'comfortab...        0      0   \n",
       "3  {u'and': 1, u'ingenious': 1, u'love': 1, u'pos...        0      0   \n",
       "4  {u'and': 1, u'parents!!': 1, u'all': 1, u'help...        0      1   \n",
       "\n",
       "   fantastic  amazing  love  horrible  bad  terrible  awful  wow  hate  \\\n",
       "0          0        0     0         0    0         0      0    0     0   \n",
       "1          0        0     1         0    0         0      0    0     0   \n",
       "2          0        0     0         0    0         0      0    0     0   \n",
       "3          0        0     1         0    0         0      0    0     0   \n",
       "4          0        0     0         0    0         0      0    0     0   \n",
       "\n",
       "   awesome_count  \n",
       "0              0  \n",
       "1              0  \n",
       "2              0  \n",
       "3              0  \n",
       "4              0  "
      ]
     },
     "execution_count": 221,
     "metadata": {},
     "output_type": "execute_result"
    }
   ],
   "source": [
    "products.head()"
   ]
  },
  {
   "cell_type": "code",
   "execution_count": 182,
   "metadata": {
    "collapsed": false
   },
   "outputs": [
    {
     "data": {
      "text/plain": [
       "1"
      ]
     },
     "execution_count": 182,
     "metadata": {},
     "output_type": "execute_result"
    }
   ],
   "source": [
    "products.iloc[10761]['awesome']"
   ]
  },
  {
   "cell_type": "code",
   "execution_count": 183,
   "metadata": {
    "collapsed": false
   },
   "outputs": [
    {
     "data": {
      "text/plain": [
       "1"
      ]
     },
     "execution_count": 183,
     "metadata": {},
     "output_type": "execute_result"
    }
   ],
   "source": [
    "products.iloc[10761]['awesome_count']"
   ]
  },
  {
   "cell_type": "markdown",
   "metadata": {},
   "source": [
    "# Find most used word from selected_words"
   ]
  },
  {
   "cell_type": "code",
   "execution_count": 228,
   "metadata": {
    "collapsed": false
   },
   "outputs": [],
   "source": [
    "def selected_word_count():\n",
    "    count_dict = {}\n",
    "    for word in selected_words:\n",
    "        count_dict[word] = products[word].sum()\n",
    "    return count_dict"
   ]
  },
  {
   "cell_type": "code",
   "execution_count": 231,
   "metadata": {
    "collapsed": false
   },
   "outputs": [
    {
     "name": "stdout",
     "output_type": "stream",
     "text": [
      "{'fantastic': 908, 'love': 34714, 'bad': 3518, 'awesome': 2017, 'great': 38038, 'terrible': 713, 'amazing': 1311, 'horrible': 697, 'awful': 364, 'hate': 1153, 'wow': 132}\n"
     ]
    }
   ],
   "source": [
    "print(selected_word_count())"
   ]
  },
  {
   "cell_type": "markdown",
   "metadata": {},
   "source": [
    "'great': 38038\n",
    "'wow': 132"
   ]
  },
  {
   "cell_type": "markdown",
   "metadata": {},
   "source": [
    "# Create a new sentiment analysis model using only selected words"
   ]
  },
  {
   "cell_type": "markdown",
   "metadata": {},
   "source": [
    "# Add sentiment column"
   ]
  },
  {
   "cell_type": "code",
   "execution_count": 271,
   "metadata": {
    "collapsed": false
   },
   "outputs": [],
   "source": [
    "products = products[products['rating'] != 3]"
   ]
  },
  {
   "cell_type": "code",
   "execution_count": 274,
   "metadata": {
    "collapsed": false
   },
   "outputs": [],
   "source": [
    "products['sentiment'] = products['rating'] >= 4"
   ]
  },
  {
   "cell_type": "markdown",
   "metadata": {},
   "source": [
    "## Test train split"
   ]
  },
  {
   "cell_type": "code",
   "execution_count": 319,
   "metadata": {
    "collapsed": false
   },
   "outputs": [],
   "source": [
    "from sklearn.cross_validation import train_test_split"
   ]
  },
  {
   "cell_type": "code",
   "execution_count": 320,
   "metadata": {
    "collapsed": true
   },
   "outputs": [],
   "source": [
    "train_data, test_data = train_test_split(products, test_size=0.2, random_state = 0)"
   ]
  },
  {
   "cell_type": "markdown",
   "metadata": {},
   "source": [
    "## Train LogisticRegression model"
   ]
  },
  {
   "cell_type": "code",
   "execution_count": 321,
   "metadata": {
    "collapsed": false
   },
   "outputs": [],
   "source": [
    "from sklearn.linear_model import LogisticRegression"
   ]
  },
  {
   "cell_type": "code",
   "execution_count": 322,
   "metadata": {
    "collapsed": true
   },
   "outputs": [],
   "source": [
    "selected_words_model = LogisticRegression()"
   ]
  },
  {
   "cell_type": "code",
   "execution_count": 323,
   "metadata": {
    "collapsed": false
   },
   "outputs": [
    {
     "data": {
      "text/plain": [
       "LogisticRegression(C=1.0, class_weight=None, dual=False, fit_intercept=True,\n",
       "          intercept_scaling=1, max_iter=100, multi_class='ovr', n_jobs=1,\n",
       "          penalty='l2', random_state=None, solver='liblinear', tol=0.0001,\n",
       "          verbose=0, warm_start=False)"
      ]
     },
     "execution_count": 323,
     "metadata": {},
     "output_type": "execute_result"
    }
   ],
   "source": [
    "selected_words_model.fit(X=train_data[selected_words], y=train_data['sentiment'])"
   ]
  },
  {
   "cell_type": "markdown",
   "metadata": {},
   "source": [
    "## Results"
   ]
  },
  {
   "cell_type": "code",
   "execution_count": 324,
   "metadata": {
    "collapsed": false,
    "scrolled": true
   },
   "outputs": [
    {
     "data": {
      "text/plain": [
       "array([[ 1.19313429,  1.02912457,  0.78392209,  0.99059312,  1.66812632,\n",
       "        -2.09732567, -1.038261  , -2.11365292, -1.75002809, -0.10295027,\n",
       "        -1.53998467]])"
      ]
     },
     "execution_count": 324,
     "metadata": {},
     "output_type": "execute_result"
    }
   ],
   "source": [
    "selected_words_model.coef_"
   ]
  },
  {
   "cell_type": "code",
   "execution_count": 325,
   "metadata": {
    "collapsed": false
   },
   "outputs": [
    {
     "data": {
      "text/plain": [
       "array([False,  True], dtype=bool)"
      ]
     },
     "execution_count": 325,
     "metadata": {},
     "output_type": "execute_result"
    }
   ],
   "source": [
    "selected_words_model.classes_"
   ]
  },
  {
   "cell_type": "code",
   "execution_count": 326,
   "metadata": {
    "collapsed": false
   },
   "outputs": [
    {
     "name": "stdout",
     "output_type": "stream",
     "text": [
      "{'fantastic': 0.78392208898133964, 'love': 1.6681263240389248, 'bad': -1.0382610049641134, 'awesome': 1.1931342878557001, 'great': 1.0291245670790194, 'terrible': -2.1136529225594409, 'amazing': 0.9905931183811475, 'horrible': -2.0973256696661782, 'awful': -1.7500280856839332, 'hate': -1.5399846718228309, 'wow': -0.10295027017966574}\n"
     ]
    }
   ],
   "source": [
    "from itertools import izip as zip\n",
    "coef_dict = {k: v for k, v in zip(selected_words, selected_words_model.coef_[0])}\n",
    "print coef_dict"
   ]
  },
  {
   "cell_type": "markdown",
   "metadata": {},
   "source": [
    "# Comparing the accuracy of different sentiment analysis model"
   ]
  },
  {
   "cell_type": "code",
   "execution_count": 333,
   "metadata": {
    "collapsed": false
   },
   "outputs": [
    {
     "data": {
      "text/plain": [
       "array([ True,  True,  True, ...,  True,  True,  True], dtype=bool)"
      ]
     },
     "execution_count": 333,
     "metadata": {},
     "output_type": "execute_result"
    }
   ],
   "source": [
    "selected_words_model.predict(test_data[selected_words])"
   ]
  },
  {
   "cell_type": "code",
   "execution_count": 334,
   "metadata": {
    "collapsed": false
   },
   "outputs": [],
   "source": [
    "test_data_copy = test_data.copy()"
   ]
  },
  {
   "cell_type": "code",
   "execution_count": 335,
   "metadata": {
    "collapsed": false
   },
   "outputs": [],
   "source": [
    "pred = pandas.Series(selected_words_model.predict(test_data[selected_words]))"
   ]
  },
  {
   "cell_type": "code",
   "execution_count": 336,
   "metadata": {
    "collapsed": false
   },
   "outputs": [],
   "source": [
    "test_data_copy['pred'] = pred.values"
   ]
  },
  {
   "cell_type": "code",
   "execution_count": 337,
   "metadata": {
    "collapsed": false,
    "scrolled": true
   },
   "outputs": [
    {
     "data": {
      "text/html": [
       "<div>\n",
       "<table border=\"1\" class=\"dataframe\">\n",
       "  <thead>\n",
       "    <tr style=\"text-align: right;\">\n",
       "      <th></th>\n",
       "      <th>name</th>\n",
       "      <th>review</th>\n",
       "      <th>rating</th>\n",
       "      <th>review_split</th>\n",
       "      <th>word_count</th>\n",
       "      <th>awesome</th>\n",
       "      <th>great</th>\n",
       "      <th>fantastic</th>\n",
       "      <th>amazing</th>\n",
       "      <th>love</th>\n",
       "      <th>horrible</th>\n",
       "      <th>bad</th>\n",
       "      <th>terrible</th>\n",
       "      <th>awful</th>\n",
       "      <th>wow</th>\n",
       "      <th>hate</th>\n",
       "      <th>awesome_count</th>\n",
       "      <th>sentiment</th>\n",
       "      <th>pred</th>\n",
       "    </tr>\n",
       "  </thead>\n",
       "  <tbody>\n",
       "    <tr>\n",
       "      <th>103733</th>\n",
       "      <td>Luvable Friends Applique Side Closure Bib, Pink</td>\n",
       "      <td>Got this for a friend for her baby shower. Lov...</td>\n",
       "      <td>5</td>\n",
       "      <td>[got, this, for, a, friend, for, her, baby, sh...</td>\n",
       "      <td>{u'a': 1, u'loved': 1, u'it!thanks': 1, u'for'...</td>\n",
       "      <td>0</td>\n",
       "      <td>0</td>\n",
       "      <td>0</td>\n",
       "      <td>0</td>\n",
       "      <td>0</td>\n",
       "      <td>0</td>\n",
       "      <td>0</td>\n",
       "      <td>0</td>\n",
       "      <td>0</td>\n",
       "      <td>0</td>\n",
       "      <td>0</td>\n",
       "      <td>0</td>\n",
       "      <td>True</td>\n",
       "      <td>True</td>\n",
       "    </tr>\n",
       "    <tr>\n",
       "      <th>157975</th>\n",
       "      <td>Infant Optics DXR5 Wall Socket Power Adapter (...</td>\n",
       "      <td>Ok, so obviously there isn't much to say about...</td>\n",
       "      <td>5</td>\n",
       "      <td>[ok,, so, obviously, there, isn't, much, to, s...</td>\n",
       "      <td>{u'and': 1, u'there': 1, u'wall': 1, u'into': ...</td>\n",
       "      <td>0</td>\n",
       "      <td>0</td>\n",
       "      <td>0</td>\n",
       "      <td>0</td>\n",
       "      <td>0</td>\n",
       "      <td>0</td>\n",
       "      <td>0</td>\n",
       "      <td>0</td>\n",
       "      <td>0</td>\n",
       "      <td>0</td>\n",
       "      <td>0</td>\n",
       "      <td>0</td>\n",
       "      <td>True</td>\n",
       "      <td>True</td>\n",
       "    </tr>\n",
       "    <tr>\n",
       "      <th>127693</th>\n",
       "      <td>NUK Active Silicone Spout Learning Cup, Ladybu...</td>\n",
       "      <td>We have a couple versions of Tommie Tippie and...</td>\n",
       "      <td>5</td>\n",
       "      <td>[we, have, a, couple, versions, of, tommie, ti...</td>\n",
       "      <td>{u'and': 1, u'all': 1, u'old': 1, u'nuby,': 1,...</td>\n",
       "      <td>0</td>\n",
       "      <td>0</td>\n",
       "      <td>0</td>\n",
       "      <td>0</td>\n",
       "      <td>0</td>\n",
       "      <td>0</td>\n",
       "      <td>0</td>\n",
       "      <td>0</td>\n",
       "      <td>0</td>\n",
       "      <td>0</td>\n",
       "      <td>0</td>\n",
       "      <td>0</td>\n",
       "      <td>True</td>\n",
       "      <td>True</td>\n",
       "    </tr>\n",
       "    <tr>\n",
       "      <th>113718</th>\n",
       "      <td>Luvable Friends 12 Pack Washcloths, Blue</td>\n",
       "      <td>Ordered washcloths pictured but others were se...</td>\n",
       "      <td>1</td>\n",
       "      <td>[ordered, washcloths, pictured, but, others, w...</td>\n",
       "      <td>{u'them': 1, u'ordered': 1, u'sent.': 1, u'oth...</td>\n",
       "      <td>0</td>\n",
       "      <td>0</td>\n",
       "      <td>0</td>\n",
       "      <td>0</td>\n",
       "      <td>0</td>\n",
       "      <td>0</td>\n",
       "      <td>0</td>\n",
       "      <td>0</td>\n",
       "      <td>0</td>\n",
       "      <td>0</td>\n",
       "      <td>0</td>\n",
       "      <td>0</td>\n",
       "      <td>False</td>\n",
       "      <td>True</td>\n",
       "    </tr>\n",
       "    <tr>\n",
       "      <th>20416</th>\n",
       "      <td>Infantino Cart Safari w/Microban</td>\n",
       "      <td>perfect for what its supposed to be. my 9 mont...</td>\n",
       "      <td>5</td>\n",
       "      <td>[perfect, for, what, its, supposed, to, be., m...</td>\n",
       "      <td>{u'and': 1, u'old': 1, u'extra': 1, u'others':...</td>\n",
       "      <td>0</td>\n",
       "      <td>0</td>\n",
       "      <td>0</td>\n",
       "      <td>0</td>\n",
       "      <td>1</td>\n",
       "      <td>0</td>\n",
       "      <td>0</td>\n",
       "      <td>0</td>\n",
       "      <td>0</td>\n",
       "      <td>0</td>\n",
       "      <td>0</td>\n",
       "      <td>0</td>\n",
       "      <td>True</td>\n",
       "      <td>True</td>\n",
       "    </tr>\n",
       "  </tbody>\n",
       "</table>\n",
       "</div>"
      ],
      "text/plain": [
       "                                                     name  \\\n",
       "103733    Luvable Friends Applique Side Closure Bib, Pink   \n",
       "157975  Infant Optics DXR5 Wall Socket Power Adapter (...   \n",
       "127693  NUK Active Silicone Spout Learning Cup, Ladybu...   \n",
       "113718           Luvable Friends 12 Pack Washcloths, Blue   \n",
       "20416                    Infantino Cart Safari w/Microban   \n",
       "\n",
       "                                                   review  rating  \\\n",
       "103733  Got this for a friend for her baby shower. Lov...       5   \n",
       "157975  Ok, so obviously there isn't much to say about...       5   \n",
       "127693  We have a couple versions of Tommie Tippie and...       5   \n",
       "113718  Ordered washcloths pictured but others were se...       1   \n",
       "20416   perfect for what its supposed to be. my 9 mont...       5   \n",
       "\n",
       "                                             review_split  \\\n",
       "103733  [got, this, for, a, friend, for, her, baby, sh...   \n",
       "157975  [ok,, so, obviously, there, isn't, much, to, s...   \n",
       "127693  [we, have, a, couple, versions, of, tommie, ti...   \n",
       "113718  [ordered, washcloths, pictured, but, others, w...   \n",
       "20416   [perfect, for, what, its, supposed, to, be., m...   \n",
       "\n",
       "                                               word_count  awesome  great  \\\n",
       "103733  {u'a': 1, u'loved': 1, u'it!thanks': 1, u'for'...        0      0   \n",
       "157975  {u'and': 1, u'there': 1, u'wall': 1, u'into': ...        0      0   \n",
       "127693  {u'and': 1, u'all': 1, u'old': 1, u'nuby,': 1,...        0      0   \n",
       "113718  {u'them': 1, u'ordered': 1, u'sent.': 1, u'oth...        0      0   \n",
       "20416   {u'and': 1, u'old': 1, u'extra': 1, u'others':...        0      0   \n",
       "\n",
       "        fantastic  amazing  love  horrible  bad  terrible  awful  wow  hate  \\\n",
       "103733          0        0     0         0    0         0      0    0     0   \n",
       "157975          0        0     0         0    0         0      0    0     0   \n",
       "127693          0        0     0         0    0         0      0    0     0   \n",
       "113718          0        0     0         0    0         0      0    0     0   \n",
       "20416           0        0     1         0    0         0      0    0     0   \n",
       "\n",
       "        awesome_count sentiment  pred  \n",
       "103733              0      True  True  \n",
       "157975              0      True  True  \n",
       "127693              0      True  True  \n",
       "113718              0     False  True  \n",
       "20416               0      True  True  "
      ]
     },
     "execution_count": 337,
     "metadata": {},
     "output_type": "execute_result"
    }
   ],
   "source": [
    "test_data_copy.head()"
   ]
  },
  {
   "cell_type": "code",
   "execution_count": 345,
   "metadata": {
    "collapsed": false
   },
   "outputs": [],
   "source": [
    "num_correct = int(len(test_data_copy[test_data_copy['sentiment'] == test_data_copy['pred']]))"
   ]
  },
  {
   "cell_type": "code",
   "execution_count": 346,
   "metadata": {
    "collapsed": false
   },
   "outputs": [
    {
     "data": {
      "text/plain": [
       "28085"
      ]
     },
     "execution_count": 346,
     "metadata": {},
     "output_type": "execute_result"
    }
   ],
   "source": [
    "num_correct"
   ]
  },
  {
   "cell_type": "code",
   "execution_count": 350,
   "metadata": {
    "collapsed": false
   },
   "outputs": [],
   "source": [
    "total = int(len(test_data_copy))"
   ]
  },
  {
   "cell_type": "code",
   "execution_count": 352,
   "metadata": {
    "collapsed": false
   },
   "outputs": [
    {
     "data": {
      "text/plain": [
       "0.8421036850469251"
      ]
     },
     "execution_count": 352,
     "metadata": {},
     "output_type": "execute_result"
    }
   ],
   "source": [
    "from __future__ import division\n",
    "num_correct / total"
   ]
  },
  {
   "cell_type": "code",
   "execution_count": 353,
   "metadata": {
    "collapsed": true
   },
   "outputs": [],
   "source": [
    "num_positive = int(len(test_data_copy[test_data_copy['sentiment'] == True]))"
   ]
  },
  {
   "cell_type": "code",
   "execution_count": 354,
   "metadata": {
    "collapsed": false
   },
   "outputs": [
    {
     "data": {
      "text/plain": [
       "27989"
      ]
     },
     "execution_count": 354,
     "metadata": {},
     "output_type": "execute_result"
    }
   ],
   "source": [
    "num_positive"
   ]
  },
  {
   "cell_type": "code",
   "execution_count": 355,
   "metadata": {
    "collapsed": false
   },
   "outputs": [
    {
     "data": {
      "text/plain": [
       "0.8392252106383616"
      ]
     },
     "execution_count": 355,
     "metadata": {},
     "output_type": "execute_result"
    }
   ],
   "source": [
    "num_positive / total"
   ]
  },
  {
   "cell_type": "markdown",
   "metadata": {},
   "source": [
    "# Interpreting the difference in performance between the models"
   ]
  },
  {
   "cell_type": "code",
   "execution_count": 369,
   "metadata": {
    "collapsed": false
   },
   "outputs": [],
   "source": [
    "diaper_champ_reviews = products[products['name'] == 'Baby Trend Diaper Champ']"
   ]
  },
  {
   "cell_type": "code",
   "execution_count": 370,
   "metadata": {
    "collapsed": false
   },
   "outputs": [
    {
     "data": {
      "text/html": [
       "<div>\n",
       "<table border=\"1\" class=\"dataframe\">\n",
       "  <thead>\n",
       "    <tr style=\"text-align: right;\">\n",
       "      <th></th>\n",
       "      <th>rating</th>\n",
       "      <th>awesome</th>\n",
       "      <th>great</th>\n",
       "      <th>fantastic</th>\n",
       "      <th>amazing</th>\n",
       "      <th>love</th>\n",
       "      <th>horrible</th>\n",
       "      <th>bad</th>\n",
       "      <th>terrible</th>\n",
       "      <th>awful</th>\n",
       "      <th>wow</th>\n",
       "      <th>hate</th>\n",
       "      <th>awesome_count</th>\n",
       "    </tr>\n",
       "  </thead>\n",
       "  <tbody>\n",
       "    <tr>\n",
       "      <th>count</th>\n",
       "      <td>298.000000</td>\n",
       "      <td>298.0</td>\n",
       "      <td>298.000000</td>\n",
       "      <td>298.000000</td>\n",
       "      <td>298.0</td>\n",
       "      <td>298.000000</td>\n",
       "      <td>298.000000</td>\n",
       "      <td>298.000000</td>\n",
       "      <td>298.000000</td>\n",
       "      <td>298.000000</td>\n",
       "      <td>298.0</td>\n",
       "      <td>298.000000</td>\n",
       "      <td>298.0</td>\n",
       "    </tr>\n",
       "    <tr>\n",
       "      <th>mean</th>\n",
       "      <td>4.197987</td>\n",
       "      <td>0.0</td>\n",
       "      <td>0.181208</td>\n",
       "      <td>0.003356</td>\n",
       "      <td>0.0</td>\n",
       "      <td>0.261745</td>\n",
       "      <td>0.013423</td>\n",
       "      <td>0.083893</td>\n",
       "      <td>0.003356</td>\n",
       "      <td>0.003356</td>\n",
       "      <td>0.0</td>\n",
       "      <td>0.006711</td>\n",
       "      <td>0.0</td>\n",
       "    </tr>\n",
       "    <tr>\n",
       "      <th>std</th>\n",
       "      <td>1.332473</td>\n",
       "      <td>0.0</td>\n",
       "      <td>0.385838</td>\n",
       "      <td>0.057928</td>\n",
       "      <td>0.0</td>\n",
       "      <td>0.440324</td>\n",
       "      <td>0.115270</td>\n",
       "      <td>0.277693</td>\n",
       "      <td>0.057928</td>\n",
       "      <td>0.057928</td>\n",
       "      <td>0.0</td>\n",
       "      <td>0.081785</td>\n",
       "      <td>0.0</td>\n",
       "    </tr>\n",
       "    <tr>\n",
       "      <th>min</th>\n",
       "      <td>1.000000</td>\n",
       "      <td>0.0</td>\n",
       "      <td>0.000000</td>\n",
       "      <td>0.000000</td>\n",
       "      <td>0.0</td>\n",
       "      <td>0.000000</td>\n",
       "      <td>0.000000</td>\n",
       "      <td>0.000000</td>\n",
       "      <td>0.000000</td>\n",
       "      <td>0.000000</td>\n",
       "      <td>0.0</td>\n",
       "      <td>0.000000</td>\n",
       "      <td>0.0</td>\n",
       "    </tr>\n",
       "    <tr>\n",
       "      <th>25%</th>\n",
       "      <td>4.000000</td>\n",
       "      <td>0.0</td>\n",
       "      <td>0.000000</td>\n",
       "      <td>0.000000</td>\n",
       "      <td>0.0</td>\n",
       "      <td>0.000000</td>\n",
       "      <td>0.000000</td>\n",
       "      <td>0.000000</td>\n",
       "      <td>0.000000</td>\n",
       "      <td>0.000000</td>\n",
       "      <td>0.0</td>\n",
       "      <td>0.000000</td>\n",
       "      <td>0.0</td>\n",
       "    </tr>\n",
       "    <tr>\n",
       "      <th>50%</th>\n",
       "      <td>5.000000</td>\n",
       "      <td>0.0</td>\n",
       "      <td>0.000000</td>\n",
       "      <td>0.000000</td>\n",
       "      <td>0.0</td>\n",
       "      <td>0.000000</td>\n",
       "      <td>0.000000</td>\n",
       "      <td>0.000000</td>\n",
       "      <td>0.000000</td>\n",
       "      <td>0.000000</td>\n",
       "      <td>0.0</td>\n",
       "      <td>0.000000</td>\n",
       "      <td>0.0</td>\n",
       "    </tr>\n",
       "    <tr>\n",
       "      <th>75%</th>\n",
       "      <td>5.000000</td>\n",
       "      <td>0.0</td>\n",
       "      <td>0.000000</td>\n",
       "      <td>0.000000</td>\n",
       "      <td>0.0</td>\n",
       "      <td>1.000000</td>\n",
       "      <td>0.000000</td>\n",
       "      <td>0.000000</td>\n",
       "      <td>0.000000</td>\n",
       "      <td>0.000000</td>\n",
       "      <td>0.0</td>\n",
       "      <td>0.000000</td>\n",
       "      <td>0.0</td>\n",
       "    </tr>\n",
       "    <tr>\n",
       "      <th>max</th>\n",
       "      <td>5.000000</td>\n",
       "      <td>0.0</td>\n",
       "      <td>1.000000</td>\n",
       "      <td>1.000000</td>\n",
       "      <td>0.0</td>\n",
       "      <td>1.000000</td>\n",
       "      <td>1.000000</td>\n",
       "      <td>1.000000</td>\n",
       "      <td>1.000000</td>\n",
       "      <td>1.000000</td>\n",
       "      <td>0.0</td>\n",
       "      <td>1.000000</td>\n",
       "      <td>0.0</td>\n",
       "    </tr>\n",
       "  </tbody>\n",
       "</table>\n",
       "</div>"
      ],
      "text/plain": [
       "           rating  awesome       great   fantastic  amazing        love  \\\n",
       "count  298.000000    298.0  298.000000  298.000000    298.0  298.000000   \n",
       "mean     4.197987      0.0    0.181208    0.003356      0.0    0.261745   \n",
       "std      1.332473      0.0    0.385838    0.057928      0.0    0.440324   \n",
       "min      1.000000      0.0    0.000000    0.000000      0.0    0.000000   \n",
       "25%      4.000000      0.0    0.000000    0.000000      0.0    0.000000   \n",
       "50%      5.000000      0.0    0.000000    0.000000      0.0    0.000000   \n",
       "75%      5.000000      0.0    0.000000    0.000000      0.0    1.000000   \n",
       "max      5.000000      0.0    1.000000    1.000000      0.0    1.000000   \n",
       "\n",
       "         horrible         bad    terrible       awful    wow        hate  \\\n",
       "count  298.000000  298.000000  298.000000  298.000000  298.0  298.000000   \n",
       "mean     0.013423    0.083893    0.003356    0.003356    0.0    0.006711   \n",
       "std      0.115270    0.277693    0.057928    0.057928    0.0    0.081785   \n",
       "min      0.000000    0.000000    0.000000    0.000000    0.0    0.000000   \n",
       "25%      0.000000    0.000000    0.000000    0.000000    0.0    0.000000   \n",
       "50%      0.000000    0.000000    0.000000    0.000000    0.0    0.000000   \n",
       "75%      0.000000    0.000000    0.000000    0.000000    0.0    0.000000   \n",
       "max      1.000000    1.000000    1.000000    1.000000    0.0    1.000000   \n",
       "\n",
       "       awesome_count  \n",
       "count          298.0  \n",
       "mean             0.0  \n",
       "std              0.0  \n",
       "min              0.0  \n",
       "25%              0.0  \n",
       "50%              0.0  \n",
       "75%              0.0  \n",
       "max              0.0  "
      ]
     },
     "execution_count": 370,
     "metadata": {},
     "output_type": "execute_result"
    }
   ],
   "source": [
    "diaper_champ_reviews.describe()"
   ]
  },
  {
   "cell_type": "code",
   "execution_count": 371,
   "metadata": {
    "collapsed": true
   },
   "outputs": [],
   "source": [
    "diaper_champ_reviews = diaper_champ_reviews[diaper_champ_reviews['rating'] != 3]"
   ]
  },
  {
   "cell_type": "code",
   "execution_count": 372,
   "metadata": {
    "collapsed": true
   },
   "outputs": [],
   "source": [
    "diaper_champ_reviews['sentiment'] = diaper_champ_reviews['rating'] >= 4"
   ]
  },
  {
   "cell_type": "code",
   "execution_count": 373,
   "metadata": {
    "collapsed": false
   },
   "outputs": [
    {
     "data": {
      "text/html": [
       "<div>\n",
       "<table border=\"1\" class=\"dataframe\">\n",
       "  <thead>\n",
       "    <tr style=\"text-align: right;\">\n",
       "      <th></th>\n",
       "      <th>name</th>\n",
       "      <th>review</th>\n",
       "      <th>rating</th>\n",
       "      <th>review_split</th>\n",
       "      <th>word_count</th>\n",
       "      <th>awesome</th>\n",
       "      <th>great</th>\n",
       "      <th>fantastic</th>\n",
       "      <th>amazing</th>\n",
       "      <th>love</th>\n",
       "      <th>horrible</th>\n",
       "      <th>bad</th>\n",
       "      <th>terrible</th>\n",
       "      <th>awful</th>\n",
       "      <th>wow</th>\n",
       "      <th>hate</th>\n",
       "      <th>awesome_count</th>\n",
       "      <th>sentiment</th>\n",
       "    </tr>\n",
       "  </thead>\n",
       "  <tbody>\n",
       "    <tr>\n",
       "      <th>312</th>\n",
       "      <td>Baby Trend Diaper Champ</td>\n",
       "      <td>Ok - newsflash.  Diapers are just smelly.  We'...</td>\n",
       "      <td>4</td>\n",
       "      <td>[ok, -, newsflash., diapers, are, just, smelly...</td>\n",
       "      <td>{u'just': 1, u'less': 1, u'when': 1, u'smell-c...</td>\n",
       "      <td>0</td>\n",
       "      <td>0</td>\n",
       "      <td>0</td>\n",
       "      <td>0</td>\n",
       "      <td>0</td>\n",
       "      <td>0</td>\n",
       "      <td>0</td>\n",
       "      <td>0</td>\n",
       "      <td>0</td>\n",
       "      <td>0</td>\n",
       "      <td>0</td>\n",
       "      <td>0</td>\n",
       "      <td>True</td>\n",
       "    </tr>\n",
       "    <tr>\n",
       "      <th>314</th>\n",
       "      <td>Baby Trend Diaper Champ</td>\n",
       "      <td>My husband and I selected the Diaper \"Champ\" m...</td>\n",
       "      <td>1</td>\n",
       "      <td>[my, husband, and, i, selected, the, diaper, \"...</td>\n",
       "      <td>{u'things': 1, u'bags,': 1, u'less': 1, u'when...</td>\n",
       "      <td>0</td>\n",
       "      <td>0</td>\n",
       "      <td>0</td>\n",
       "      <td>0</td>\n",
       "      <td>0</td>\n",
       "      <td>0</td>\n",
       "      <td>0</td>\n",
       "      <td>0</td>\n",
       "      <td>0</td>\n",
       "      <td>0</td>\n",
       "      <td>0</td>\n",
       "      <td>0</td>\n",
       "      <td>False</td>\n",
       "    </tr>\n",
       "    <tr>\n",
       "      <th>315</th>\n",
       "      <td>Baby Trend Diaper Champ</td>\n",
       "      <td>Excellent diaper disposal unit.  I used it in ...</td>\n",
       "      <td>5</td>\n",
       "      <td>[excellent, diaper, disposal, unit., i, used, ...</td>\n",
       "      <td>{u'control': 1, u'am': 1, u'it': 1, u'nose!!!'...</td>\n",
       "      <td>0</td>\n",
       "      <td>0</td>\n",
       "      <td>0</td>\n",
       "      <td>0</td>\n",
       "      <td>0</td>\n",
       "      <td>0</td>\n",
       "      <td>0</td>\n",
       "      <td>0</td>\n",
       "      <td>0</td>\n",
       "      <td>0</td>\n",
       "      <td>0</td>\n",
       "      <td>0</td>\n",
       "      <td>True</td>\n",
       "    </tr>\n",
       "    <tr>\n",
       "      <th>316</th>\n",
       "      <td>Baby Trend Diaper Champ</td>\n",
       "      <td>We love our diaper champ.  It is very easy to ...</td>\n",
       "      <td>5</td>\n",
       "      <td>[we, love, our, diaper, champ., it, is, very, ...</td>\n",
       "      <td>{u'and': 1, u'over.': 1, u'all': 1, u'love': 1...</td>\n",
       "      <td>0</td>\n",
       "      <td>0</td>\n",
       "      <td>0</td>\n",
       "      <td>0</td>\n",
       "      <td>1</td>\n",
       "      <td>0</td>\n",
       "      <td>0</td>\n",
       "      <td>0</td>\n",
       "      <td>0</td>\n",
       "      <td>0</td>\n",
       "      <td>0</td>\n",
       "      <td>0</td>\n",
       "      <td>True</td>\n",
       "    </tr>\n",
       "    <tr>\n",
       "      <th>317</th>\n",
       "      <td>Baby Trend Diaper Champ</td>\n",
       "      <td>Two girlfriends and two family members put me ...</td>\n",
       "      <td>5</td>\n",
       "      <td>[two, girlfriends, and, two, family, members, ...</td>\n",
       "      <td>{u'out,': 1, u'just': 1, u'when': 1, u'both': ...</td>\n",
       "      <td>0</td>\n",
       "      <td>0</td>\n",
       "      <td>0</td>\n",
       "      <td>0</td>\n",
       "      <td>0</td>\n",
       "      <td>1</td>\n",
       "      <td>0</td>\n",
       "      <td>0</td>\n",
       "      <td>0</td>\n",
       "      <td>0</td>\n",
       "      <td>0</td>\n",
       "      <td>0</td>\n",
       "      <td>True</td>\n",
       "    </tr>\n",
       "  </tbody>\n",
       "</table>\n",
       "</div>"
      ],
      "text/plain": [
       "                        name  \\\n",
       "312  Baby Trend Diaper Champ   \n",
       "314  Baby Trend Diaper Champ   \n",
       "315  Baby Trend Diaper Champ   \n",
       "316  Baby Trend Diaper Champ   \n",
       "317  Baby Trend Diaper Champ   \n",
       "\n",
       "                                                review  rating  \\\n",
       "312  Ok - newsflash.  Diapers are just smelly.  We'...       4   \n",
       "314  My husband and I selected the Diaper \"Champ\" m...       1   \n",
       "315  Excellent diaper disposal unit.  I used it in ...       5   \n",
       "316  We love our diaper champ.  It is very easy to ...       5   \n",
       "317  Two girlfriends and two family members put me ...       5   \n",
       "\n",
       "                                          review_split  \\\n",
       "312  [ok, -, newsflash., diapers, are, just, smelly...   \n",
       "314  [my, husband, and, i, selected, the, diaper, \"...   \n",
       "315  [excellent, diaper, disposal, unit., i, used, ...   \n",
       "316  [we, love, our, diaper, champ., it, is, very, ...   \n",
       "317  [two, girlfriends, and, two, family, members, ...   \n",
       "\n",
       "                                            word_count  awesome  great  \\\n",
       "312  {u'just': 1, u'less': 1, u'when': 1, u'smell-c...        0      0   \n",
       "314  {u'things': 1, u'bags,': 1, u'less': 1, u'when...        0      0   \n",
       "315  {u'control': 1, u'am': 1, u'it': 1, u'nose!!!'...        0      0   \n",
       "316  {u'and': 1, u'over.': 1, u'all': 1, u'love': 1...        0      0   \n",
       "317  {u'out,': 1, u'just': 1, u'when': 1, u'both': ...        0      0   \n",
       "\n",
       "     fantastic  amazing  love  horrible  bad  terrible  awful  wow  hate  \\\n",
       "312          0        0     0         0    0         0      0    0     0   \n",
       "314          0        0     0         0    0         0      0    0     0   \n",
       "315          0        0     0         0    0         0      0    0     0   \n",
       "316          0        0     1         0    0         0      0    0     0   \n",
       "317          0        0     0         1    0         0      0    0     0   \n",
       "\n",
       "     awesome_count sentiment  \n",
       "312              0      True  \n",
       "314              0     False  \n",
       "315              0      True  \n",
       "316              0      True  \n",
       "317              0      True  "
      ]
     },
     "execution_count": 373,
     "metadata": {},
     "output_type": "execute_result"
    }
   ],
   "source": [
    "diaper_champ_reviews.head()"
   ]
  },
  {
   "cell_type": "code",
   "execution_count": 376,
   "metadata": {
    "collapsed": false
   },
   "outputs": [],
   "source": [
    "pred = pandas.Series(selected_words_model.predict(diaper_champ_reviews[selected_words]))"
   ]
  },
  {
   "cell_type": "code",
   "execution_count": 377,
   "metadata": {
    "collapsed": true
   },
   "outputs": [],
   "source": [
    "diaper_champ_reviews['predicted'] = pred.values"
   ]
  },
  {
   "cell_type": "code",
   "execution_count": 378,
   "metadata": {
    "collapsed": false
   },
   "outputs": [
    {
     "data": {
      "text/html": [
       "<div>\n",
       "<table border=\"1\" class=\"dataframe\">\n",
       "  <thead>\n",
       "    <tr style=\"text-align: right;\">\n",
       "      <th></th>\n",
       "      <th>name</th>\n",
       "      <th>review</th>\n",
       "      <th>rating</th>\n",
       "      <th>review_split</th>\n",
       "      <th>word_count</th>\n",
       "      <th>awesome</th>\n",
       "      <th>great</th>\n",
       "      <th>fantastic</th>\n",
       "      <th>amazing</th>\n",
       "      <th>love</th>\n",
       "      <th>horrible</th>\n",
       "      <th>bad</th>\n",
       "      <th>terrible</th>\n",
       "      <th>awful</th>\n",
       "      <th>wow</th>\n",
       "      <th>hate</th>\n",
       "      <th>awesome_count</th>\n",
       "      <th>sentiment</th>\n",
       "      <th>predicted</th>\n",
       "    </tr>\n",
       "  </thead>\n",
       "  <tbody>\n",
       "    <tr>\n",
       "      <th>312</th>\n",
       "      <td>Baby Trend Diaper Champ</td>\n",
       "      <td>Ok - newsflash.  Diapers are just smelly.  We'...</td>\n",
       "      <td>4</td>\n",
       "      <td>[ok, -, newsflash., diapers, are, just, smelly...</td>\n",
       "      <td>{u'just': 1, u'less': 1, u'when': 1, u'smell-c...</td>\n",
       "      <td>0</td>\n",
       "      <td>0</td>\n",
       "      <td>0</td>\n",
       "      <td>0</td>\n",
       "      <td>0</td>\n",
       "      <td>0</td>\n",
       "      <td>0</td>\n",
       "      <td>0</td>\n",
       "      <td>0</td>\n",
       "      <td>0</td>\n",
       "      <td>0</td>\n",
       "      <td>0</td>\n",
       "      <td>True</td>\n",
       "      <td>True</td>\n",
       "    </tr>\n",
       "    <tr>\n",
       "      <th>314</th>\n",
       "      <td>Baby Trend Diaper Champ</td>\n",
       "      <td>My husband and I selected the Diaper \"Champ\" m...</td>\n",
       "      <td>1</td>\n",
       "      <td>[my, husband, and, i, selected, the, diaper, \"...</td>\n",
       "      <td>{u'things': 1, u'bags,': 1, u'less': 1, u'when...</td>\n",
       "      <td>0</td>\n",
       "      <td>0</td>\n",
       "      <td>0</td>\n",
       "      <td>0</td>\n",
       "      <td>0</td>\n",
       "      <td>0</td>\n",
       "      <td>0</td>\n",
       "      <td>0</td>\n",
       "      <td>0</td>\n",
       "      <td>0</td>\n",
       "      <td>0</td>\n",
       "      <td>0</td>\n",
       "      <td>False</td>\n",
       "      <td>True</td>\n",
       "    </tr>\n",
       "    <tr>\n",
       "      <th>315</th>\n",
       "      <td>Baby Trend Diaper Champ</td>\n",
       "      <td>Excellent diaper disposal unit.  I used it in ...</td>\n",
       "      <td>5</td>\n",
       "      <td>[excellent, diaper, disposal, unit., i, used, ...</td>\n",
       "      <td>{u'control': 1, u'am': 1, u'it': 1, u'nose!!!'...</td>\n",
       "      <td>0</td>\n",
       "      <td>0</td>\n",
       "      <td>0</td>\n",
       "      <td>0</td>\n",
       "      <td>0</td>\n",
       "      <td>0</td>\n",
       "      <td>0</td>\n",
       "      <td>0</td>\n",
       "      <td>0</td>\n",
       "      <td>0</td>\n",
       "      <td>0</td>\n",
       "      <td>0</td>\n",
       "      <td>True</td>\n",
       "      <td>True</td>\n",
       "    </tr>\n",
       "    <tr>\n",
       "      <th>316</th>\n",
       "      <td>Baby Trend Diaper Champ</td>\n",
       "      <td>We love our diaper champ.  It is very easy to ...</td>\n",
       "      <td>5</td>\n",
       "      <td>[we, love, our, diaper, champ., it, is, very, ...</td>\n",
       "      <td>{u'and': 1, u'over.': 1, u'all': 1, u'love': 1...</td>\n",
       "      <td>0</td>\n",
       "      <td>0</td>\n",
       "      <td>0</td>\n",
       "      <td>0</td>\n",
       "      <td>1</td>\n",
       "      <td>0</td>\n",
       "      <td>0</td>\n",
       "      <td>0</td>\n",
       "      <td>0</td>\n",
       "      <td>0</td>\n",
       "      <td>0</td>\n",
       "      <td>0</td>\n",
       "      <td>True</td>\n",
       "      <td>True</td>\n",
       "    </tr>\n",
       "    <tr>\n",
       "      <th>317</th>\n",
       "      <td>Baby Trend Diaper Champ</td>\n",
       "      <td>Two girlfriends and two family members put me ...</td>\n",
       "      <td>5</td>\n",
       "      <td>[two, girlfriends, and, two, family, members, ...</td>\n",
       "      <td>{u'out,': 1, u'just': 1, u'when': 1, u'both': ...</td>\n",
       "      <td>0</td>\n",
       "      <td>0</td>\n",
       "      <td>0</td>\n",
       "      <td>0</td>\n",
       "      <td>0</td>\n",
       "      <td>1</td>\n",
       "      <td>0</td>\n",
       "      <td>0</td>\n",
       "      <td>0</td>\n",
       "      <td>0</td>\n",
       "      <td>0</td>\n",
       "      <td>0</td>\n",
       "      <td>True</td>\n",
       "      <td>False</td>\n",
       "    </tr>\n",
       "  </tbody>\n",
       "</table>\n",
       "</div>"
      ],
      "text/plain": [
       "                        name  \\\n",
       "312  Baby Trend Diaper Champ   \n",
       "314  Baby Trend Diaper Champ   \n",
       "315  Baby Trend Diaper Champ   \n",
       "316  Baby Trend Diaper Champ   \n",
       "317  Baby Trend Diaper Champ   \n",
       "\n",
       "                                                review  rating  \\\n",
       "312  Ok - newsflash.  Diapers are just smelly.  We'...       4   \n",
       "314  My husband and I selected the Diaper \"Champ\" m...       1   \n",
       "315  Excellent diaper disposal unit.  I used it in ...       5   \n",
       "316  We love our diaper champ.  It is very easy to ...       5   \n",
       "317  Two girlfriends and two family members put me ...       5   \n",
       "\n",
       "                                          review_split  \\\n",
       "312  [ok, -, newsflash., diapers, are, just, smelly...   \n",
       "314  [my, husband, and, i, selected, the, diaper, \"...   \n",
       "315  [excellent, diaper, disposal, unit., i, used, ...   \n",
       "316  [we, love, our, diaper, champ., it, is, very, ...   \n",
       "317  [two, girlfriends, and, two, family, members, ...   \n",
       "\n",
       "                                            word_count  awesome  great  \\\n",
       "312  {u'just': 1, u'less': 1, u'when': 1, u'smell-c...        0      0   \n",
       "314  {u'things': 1, u'bags,': 1, u'less': 1, u'when...        0      0   \n",
       "315  {u'control': 1, u'am': 1, u'it': 1, u'nose!!!'...        0      0   \n",
       "316  {u'and': 1, u'over.': 1, u'all': 1, u'love': 1...        0      0   \n",
       "317  {u'out,': 1, u'just': 1, u'when': 1, u'both': ...        0      0   \n",
       "\n",
       "     fantastic  amazing  love  horrible  bad  terrible  awful  wow  hate  \\\n",
       "312          0        0     0         0    0         0      0    0     0   \n",
       "314          0        0     0         0    0         0      0    0     0   \n",
       "315          0        0     0         0    0         0      0    0     0   \n",
       "316          0        0     1         0    0         0      0    0     0   \n",
       "317          0        0     0         1    0         0      0    0     0   \n",
       "\n",
       "     awesome_count sentiment predicted  \n",
       "312              0      True      True  \n",
       "314              0     False      True  \n",
       "315              0      True      True  \n",
       "316              0      True      True  \n",
       "317              0      True     False  "
      ]
     },
     "execution_count": 378,
     "metadata": {},
     "output_type": "execute_result"
    }
   ],
   "source": [
    "diaper_champ_reviews.head()"
   ]
  },
  {
   "cell_type": "markdown",
   "metadata": {},
   "source": [
    "# Use GraphLab"
   ]
  },
  {
   "cell_type": "code",
   "execution_count": 379,
   "metadata": {
    "collapsed": true
   },
   "outputs": [],
   "source": [
    "import graphlab"
   ]
  },
  {
   "cell_type": "code",
   "execution_count": null,
   "metadata": {
    "collapsed": true
   },
   "outputs": [],
   "source": [
    "selected_words_gl = graphlab.logistic_classifier.create(train_data,\n",
    "                                                    target='sentiment',\n",
    "                                                    features=[selected_words],\n",
    "                                                    validation_set=test_data)"
   ]
  }
 ],
 "metadata": {
  "kernelspec": {
   "display_name": "Python 2",
   "language": "python",
   "name": "python2"
  },
  "language_info": {
   "codemirror_mode": {
    "name": "ipython",
    "version": 2
   },
   "file_extension": ".py",
   "mimetype": "text/x-python",
   "name": "python",
   "nbconvert_exporter": "python",
   "pygments_lexer": "ipython2",
   "version": "2.7.11"
  }
 },
 "nbformat": 4,
 "nbformat_minor": 0
}
