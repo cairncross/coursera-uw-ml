{
 "cells": [
  {
   "cell_type": "code",
   "execution_count": 1,
   "metadata": {
    "collapsed": true
   },
   "outputs": [],
   "source": [
    "import pandas as pd\n",
    "\n",
    "dtype_dict = {'bathrooms':float, 'waterfront':int, 'sqft_above':int, 'sqft_living15':float, 'grade':int, 'yr_renovated':int, 'price':float, 'bedrooms':float, 'zipcode':str, 'long':float, 'sqft_lot15':float, 'sqft_living':float, 'floors':float, 'condition':int, 'lat':float, 'date':str, 'sqft_basement':int, 'yr_built':int, 'id':str, 'sqft_lot':int, 'view':int}\n",
    "\n",
    "sales = pd.read_csv('kc_house_data.csv', dtype=dtype_dict)"
   ]
  },
  {
   "cell_type": "code",
   "execution_count": 2,
   "metadata": {
    "collapsed": true
   },
   "outputs": [],
   "source": [
    "from math import log, sqrt\n",
    "sales['sqft_living_sqrt'] = sales['sqft_living'].apply(sqrt)\n",
    "sales['sqft_lot_sqrt'] = sales['sqft_lot'].apply(sqrt)\n",
    "sales['bedrooms_square'] = sales['bedrooms']*sales['bedrooms']\n",
    "sales['floors_square'] = sales['floors']*sales['floors']"
   ]
  },
  {
   "cell_type": "code",
   "execution_count": 3,
   "metadata": {
    "collapsed": false
   },
   "outputs": [
    {
     "data": {
      "text/html": [
       "<div>\n",
       "<table border=\"1\" class=\"dataframe\">\n",
       "  <thead>\n",
       "    <tr style=\"text-align: right;\">\n",
       "      <th></th>\n",
       "      <th>id</th>\n",
       "      <th>date</th>\n",
       "      <th>price</th>\n",
       "      <th>bedrooms</th>\n",
       "      <th>bathrooms</th>\n",
       "      <th>sqft_living</th>\n",
       "      <th>sqft_lot</th>\n",
       "      <th>floors</th>\n",
       "      <th>waterfront</th>\n",
       "      <th>view</th>\n",
       "      <th>...</th>\n",
       "      <th>yr_renovated</th>\n",
       "      <th>zipcode</th>\n",
       "      <th>lat</th>\n",
       "      <th>long</th>\n",
       "      <th>sqft_living15</th>\n",
       "      <th>sqft_lot15</th>\n",
       "      <th>sqft_living_sqrt</th>\n",
       "      <th>sqft_lot_sqrt</th>\n",
       "      <th>bedrooms_square</th>\n",
       "      <th>floors_square</th>\n",
       "    </tr>\n",
       "  </thead>\n",
       "  <tbody>\n",
       "    <tr>\n",
       "      <th>0</th>\n",
       "      <td>7129300520</td>\n",
       "      <td>20141013T000000</td>\n",
       "      <td>221900.0</td>\n",
       "      <td>3.0</td>\n",
       "      <td>1.00</td>\n",
       "      <td>1180.0</td>\n",
       "      <td>5650</td>\n",
       "      <td>1.0</td>\n",
       "      <td>0</td>\n",
       "      <td>0</td>\n",
       "      <td>...</td>\n",
       "      <td>0</td>\n",
       "      <td>98178</td>\n",
       "      <td>47.5112</td>\n",
       "      <td>-122.257</td>\n",
       "      <td>1340.0</td>\n",
       "      <td>5650.0</td>\n",
       "      <td>34.351128</td>\n",
       "      <td>75.166482</td>\n",
       "      <td>9.0</td>\n",
       "      <td>1.0</td>\n",
       "    </tr>\n",
       "    <tr>\n",
       "      <th>1</th>\n",
       "      <td>6414100192</td>\n",
       "      <td>20141209T000000</td>\n",
       "      <td>538000.0</td>\n",
       "      <td>3.0</td>\n",
       "      <td>2.25</td>\n",
       "      <td>2570.0</td>\n",
       "      <td>7242</td>\n",
       "      <td>2.0</td>\n",
       "      <td>0</td>\n",
       "      <td>0</td>\n",
       "      <td>...</td>\n",
       "      <td>1991</td>\n",
       "      <td>98125</td>\n",
       "      <td>47.7210</td>\n",
       "      <td>-122.319</td>\n",
       "      <td>1690.0</td>\n",
       "      <td>7639.0</td>\n",
       "      <td>50.695167</td>\n",
       "      <td>85.099941</td>\n",
       "      <td>9.0</td>\n",
       "      <td>4.0</td>\n",
       "    </tr>\n",
       "    <tr>\n",
       "      <th>2</th>\n",
       "      <td>5631500400</td>\n",
       "      <td>20150225T000000</td>\n",
       "      <td>180000.0</td>\n",
       "      <td>2.0</td>\n",
       "      <td>1.00</td>\n",
       "      <td>770.0</td>\n",
       "      <td>10000</td>\n",
       "      <td>1.0</td>\n",
       "      <td>0</td>\n",
       "      <td>0</td>\n",
       "      <td>...</td>\n",
       "      <td>0</td>\n",
       "      <td>98028</td>\n",
       "      <td>47.7379</td>\n",
       "      <td>-122.233</td>\n",
       "      <td>2720.0</td>\n",
       "      <td>8062.0</td>\n",
       "      <td>27.748874</td>\n",
       "      <td>100.000000</td>\n",
       "      <td>4.0</td>\n",
       "      <td>1.0</td>\n",
       "    </tr>\n",
       "    <tr>\n",
       "      <th>3</th>\n",
       "      <td>2487200875</td>\n",
       "      <td>20141209T000000</td>\n",
       "      <td>604000.0</td>\n",
       "      <td>4.0</td>\n",
       "      <td>3.00</td>\n",
       "      <td>1960.0</td>\n",
       "      <td>5000</td>\n",
       "      <td>1.0</td>\n",
       "      <td>0</td>\n",
       "      <td>0</td>\n",
       "      <td>...</td>\n",
       "      <td>0</td>\n",
       "      <td>98136</td>\n",
       "      <td>47.5208</td>\n",
       "      <td>-122.393</td>\n",
       "      <td>1360.0</td>\n",
       "      <td>5000.0</td>\n",
       "      <td>44.271887</td>\n",
       "      <td>70.710678</td>\n",
       "      <td>16.0</td>\n",
       "      <td>1.0</td>\n",
       "    </tr>\n",
       "    <tr>\n",
       "      <th>4</th>\n",
       "      <td>1954400510</td>\n",
       "      <td>20150218T000000</td>\n",
       "      <td>510000.0</td>\n",
       "      <td>3.0</td>\n",
       "      <td>2.00</td>\n",
       "      <td>1680.0</td>\n",
       "      <td>8080</td>\n",
       "      <td>1.0</td>\n",
       "      <td>0</td>\n",
       "      <td>0</td>\n",
       "      <td>...</td>\n",
       "      <td>0</td>\n",
       "      <td>98074</td>\n",
       "      <td>47.6168</td>\n",
       "      <td>-122.045</td>\n",
       "      <td>1800.0</td>\n",
       "      <td>7503.0</td>\n",
       "      <td>40.987803</td>\n",
       "      <td>89.888820</td>\n",
       "      <td>9.0</td>\n",
       "      <td>1.0</td>\n",
       "    </tr>\n",
       "  </tbody>\n",
       "</table>\n",
       "<p>5 rows × 25 columns</p>\n",
       "</div>"
      ],
      "text/plain": [
       "           id             date     price  bedrooms  bathrooms  sqft_living  \\\n",
       "0  7129300520  20141013T000000  221900.0       3.0       1.00       1180.0   \n",
       "1  6414100192  20141209T000000  538000.0       3.0       2.25       2570.0   \n",
       "2  5631500400  20150225T000000  180000.0       2.0       1.00        770.0   \n",
       "3  2487200875  20141209T000000  604000.0       4.0       3.00       1960.0   \n",
       "4  1954400510  20150218T000000  510000.0       3.0       2.00       1680.0   \n",
       "\n",
       "   sqft_lot  floors  waterfront  view      ...        yr_renovated  zipcode  \\\n",
       "0      5650     1.0           0     0      ...                   0    98178   \n",
       "1      7242     2.0           0     0      ...                1991    98125   \n",
       "2     10000     1.0           0     0      ...                   0    98028   \n",
       "3      5000     1.0           0     0      ...                   0    98136   \n",
       "4      8080     1.0           0     0      ...                   0    98074   \n",
       "\n",
       "       lat     long  sqft_living15  sqft_lot15 sqft_living_sqrt  \\\n",
       "0  47.5112 -122.257         1340.0      5650.0        34.351128   \n",
       "1  47.7210 -122.319         1690.0      7639.0        50.695167   \n",
       "2  47.7379 -122.233         2720.0      8062.0        27.748874   \n",
       "3  47.5208 -122.393         1360.0      5000.0        44.271887   \n",
       "4  47.6168 -122.045         1800.0      7503.0        40.987803   \n",
       "\n",
       "   sqft_lot_sqrt  bedrooms_square  floors_square  \n",
       "0      75.166482              9.0            1.0  \n",
       "1      85.099941              9.0            4.0  \n",
       "2     100.000000              4.0            1.0  \n",
       "3      70.710678             16.0            1.0  \n",
       "4      89.888820              9.0            1.0  \n",
       "\n",
       "[5 rows x 25 columns]"
      ]
     },
     "execution_count": 3,
     "metadata": {},
     "output_type": "execute_result"
    }
   ],
   "source": [
    "sales.head()"
   ]
  },
  {
   "cell_type": "code",
   "execution_count": 4,
   "metadata": {
    "collapsed": false
   },
   "outputs": [
    {
     "data": {
      "text/plain": [
       "Lasso(alpha=500.0, copy_X=True, fit_intercept=True, max_iter=1000,\n",
       "   normalize=True, positive=False, precompute=False, random_state=None,\n",
       "   selection='cyclic', tol=0.0001, warm_start=False)"
      ]
     },
     "execution_count": 4,
     "metadata": {},
     "output_type": "execute_result"
    }
   ],
   "source": [
    "from sklearn import linear_model  # using scikit-learn\n",
    "\n",
    "all_features = ['bedrooms', 'bedrooms_square',\n",
    "            'bathrooms',\n",
    "            'sqft_living', 'sqft_living_sqrt',\n",
    "            'sqft_lot', 'sqft_lot_sqrt',\n",
    "            'floors', 'floors_square',\n",
    "            'waterfront', 'view', 'condition', 'grade',\n",
    "            'sqft_above',\n",
    "            'sqft_basement',\n",
    "            'yr_built', 'yr_renovated']\n",
    "\n",
    "model_all = linear_model.Lasso(alpha=5e2, normalize=True) # set parameters\n",
    "model_all.fit(sales[all_features], sales['price']) # learn weights"
   ]
  },
  {
   "cell_type": "code",
   "execution_count": 5,
   "metadata": {
    "collapsed": false
   },
   "outputs": [
    {
     "data": {
      "text/plain": [
       "array([     0.        ,      0.        ,      0.        ,    134.43931396,\n",
       "            0.        ,      0.        ,      0.        ,      0.        ,\n",
       "            0.        ,      0.        ,  24750.00458561,      0.        ,\n",
       "        61749.10309071,      0.        ,      0.        ,     -0.        ,\n",
       "            0.        ])"
      ]
     },
     "execution_count": 5,
     "metadata": {},
     "output_type": "execute_result"
    }
   ],
   "source": [
    "model_all.coef_"
   ]
  },
  {
   "cell_type": "markdown",
   "metadata": {},
   "source": [
    "* sqft_living\n",
    "* view\n",
    "* grade"
   ]
  },
  {
   "cell_type": "code",
   "execution_count": 7,
   "metadata": {
    "collapsed": true
   },
   "outputs": [],
   "source": [
    "testing = pd.read_csv('wk3_kc_house_test_data.csv', dtype=dtype_dict)\n",
    "training = pd.read_csv('wk3_kc_house_train_data.csv', dtype=dtype_dict)\n",
    "validation = pd.read_csv('wk3_kc_house_valid_data.csv', dtype=dtype_dict)"
   ]
  },
  {
   "cell_type": "code",
   "execution_count": 35,
   "metadata": {
    "collapsed": true
   },
   "outputs": [],
   "source": [
    "testing['sqft_living_sqrt'] = testing['sqft_living'].apply(sqrt)\n",
    "testing['sqft_lot_sqrt'] = testing['sqft_lot'].apply(sqrt)\n",
    "testing['bedrooms_square'] = testing['bedrooms']*testing['bedrooms']\n",
    "testing['floors_square'] = testing['floors']*testing['floors']\n",
    "\n",
    "training['sqft_living_sqrt'] = training['sqft_living'].apply(sqrt)\n",
    "training['sqft_lot_sqrt'] = training['sqft_lot'].apply(sqrt)\n",
    "training['bedrooms_square'] = training['bedrooms']*training['bedrooms']\n",
    "training['floors_square'] = training['floors']*training['floors']\n",
    "\n",
    "validation['sqft_living_sqrt'] = validation['sqft_living'].apply(sqrt)\n",
    "validation['sqft_lot_sqrt'] = validation['sqft_lot'].apply(sqrt)\n",
    "validation['bedrooms_square'] = validation['bedrooms']*validation['bedrooms']\n",
    "validation['floors_square'] = validation['floors']*validation['floors']"
   ]
  },
  {
   "cell_type": "code",
   "execution_count": 36,
   "metadata": {
    "collapsed": false
   },
   "outputs": [],
   "source": [
    "import numpy as np\n",
    "l1_penalties = np.logspace(1, 7, num=13)"
   ]
  },
  {
   "cell_type": "code",
   "execution_count": 48,
   "metadata": {
    "collapsed": false
   },
   "outputs": [
    {
     "name": "stdout",
     "output_type": "stream",
     "text": [
      "RSS: 3.982133273e+14 l1_penalty: 10.0\n",
      "RSS: 3.96831833944e+14 l1_penalty: 14.3844988829\n",
      "RSS: 3.96210901853e+14 l1_penalty: 20.6913808111\n",
      "RSS: 3.98215534575e+14 l1_penalty: 29.7635144163\n",
      "RSS: 4.0687725852e+14 l1_penalty: 42.8133239872\n",
      "RSS: 4.24647490491e+14 l1_penalty: 61.5848211066\n",
      "RSS: 4.27906308934e+14 l1_penalty: 88.586679041\n",
      "RSS: 4.35374677103e+14 l1_penalty: 127.42749857\n",
      "RSS: 4.43107216261e+14 l1_penalty: 183.298071083\n",
      "RSS: 4.54176669663e+14 l1_penalty: 263.665089873\n",
      "RSS: 4.78132980832e+14 l1_penalty: 379.269019073\n",
      "RSS: 5.31397181867e+14 l1_penalty: 545.559478117\n",
      "RSS: 5.94043306274e+14 l1_penalty: 784.759970351\n",
      "RSS: 6.74059169986e+14 l1_penalty: 1128.83789168\n",
      "RSS: 8.02609410823e+14 l1_penalty: 1623.77673919\n",
      "RSS: 1.06125525287e+15 l1_penalty: 2335.72146909\n",
      "RSS: 1.22250685943e+15 l1_penalty: 3359.81828628\n",
      "RSS: 1.22250685943e+15 l1_penalty: 4832.93023857\n",
      "RSS: 1.22250685943e+15 l1_penalty: 6951.92796178\n",
      "RSS: 1.22250685943e+15 l1_penalty: 10000.0\n"
     ]
    }
   ],
   "source": [
    "for l1_penalty in l1_penalties:\n",
    "    model = linear_model.Lasso(alpha=l1_penalty, normalize=True)\n",
    "    model.fit(training[all_features], training['price']) # learn weights\n",
    "    predictions = model.predict(validation[all_features])\n",
    "    RSS = np.sum((predictions - validation['price']) ** 2)\n",
    "    print 'RSS: ' + str(RSS) + ' l1_penalty: ' + str(l1_penalty)"
   ]
  },
  {
   "cell_type": "code",
   "execution_count": 49,
   "metadata": {
    "collapsed": false
   },
   "outputs": [
    {
     "data": {
      "text/plain": [
       "Lasso(alpha=20.6913808111, copy_X=True, fit_intercept=True, max_iter=1000,\n",
       "   normalize=True, positive=False, precompute=False, random_state=None,\n",
       "   selection='cyclic', tol=0.0001, warm_start=False)"
      ]
     },
     "execution_count": 49,
     "metadata": {},
     "output_type": "execute_result"
    }
   ],
   "source": [
    "model = linear_model.Lasso(alpha=20.6913808111, normalize=True)\n",
    "model.fit(training[all_features], training['price']) # learn weights"
   ]
  },
  {
   "cell_type": "code",
   "execution_count": 50,
   "metadata": {
    "collapsed": false
   },
   "outputs": [
    {
     "data": {
      "text/plain": [
       "array([ -1.67201164e+04,   2.46161126e+02,   4.67505582e+04,\n",
       "         5.20597513e+02,  -3.47045876e+04,   5.16827492e-01,\n",
       "        -5.31184505e+02,   0.00000000e+00,   5.18627794e+03,\n",
       "         6.09205096e+05,   3.92492514e+04,   2.12654824e+04,\n",
       "         1.26929364e+05,   0.00000000e+00,   0.00000000e+00,\n",
       "        -3.31337004e+03,   7.23386017e+00])"
      ]
     },
     "execution_count": 50,
     "metadata": {},
     "output_type": "execute_result"
    }
   ],
   "source": [
    "model.coef_"
   ]
  },
  {
   "cell_type": "code",
   "execution_count": 51,
   "metadata": {
    "collapsed": false
   },
   "outputs": [
    {
     "data": {
      "text/plain": [
       "15"
      ]
     },
     "execution_count": 51,
     "metadata": {},
     "output_type": "execute_result"
    }
   ],
   "source": [
    "np.count_nonzero(model.coef_) + np.count_nonzero(model.intercept_)\n"
   ]
  },
  {
   "cell_type": "code",
   "execution_count": 52,
   "metadata": {
    "collapsed": true
   },
   "outputs": [],
   "source": [
    "max_nonzeros = 7"
   ]
  },
  {
   "cell_type": "code",
   "execution_count": 53,
   "metadata": {
    "collapsed": true
   },
   "outputs": [],
   "source": [
    "l1_penalties = np.logspace(1, 4, num=20)"
   ]
  },
  {
   "cell_type": "code",
   "execution_count": 54,
   "metadata": {
    "collapsed": false
   },
   "outputs": [
    {
     "name": "stdout",
     "output_type": "stream",
     "text": [
      "====================\n",
      "l1_penalty: 10.0\n",
      "RSS: 3.982133273e+14\n",
      "nonzeros: 15\n",
      "====================\n",
      "l1_penalty: 14.3844988829\n",
      "RSS: 3.96831833944e+14\n",
      "nonzeros: 15\n",
      "====================\n",
      "l1_penalty: 20.6913808111\n",
      "RSS: 3.96210901853e+14\n",
      "nonzeros: 15\n",
      "====================\n",
      "l1_penalty: 29.7635144163\n",
      "RSS: 3.98215534575e+14\n",
      "nonzeros: 15\n",
      "====================\n",
      "l1_penalty: 42.8133239872\n",
      "RSS: 4.0687725852e+14\n",
      "nonzeros: 13\n",
      "====================\n",
      "l1_penalty: 61.5848211066\n",
      "RSS: 4.24647490491e+14\n",
      "nonzeros: 12\n",
      "====================\n",
      "l1_penalty: 88.586679041\n",
      "RSS: 4.27906308934e+14\n",
      "nonzeros: 11\n",
      "====================\n",
      "l1_penalty: 127.42749857\n",
      "RSS: 4.35374677103e+14\n",
      "nonzeros: 10\n",
      "====================\n",
      "l1_penalty: 183.298071083\n",
      "RSS: 4.43107216261e+14\n",
      "nonzeros: 7\n",
      "====================\n",
      "l1_penalty: 263.665089873\n",
      "RSS: 4.54176669663e+14\n",
      "nonzeros: 6\n",
      "====================\n",
      "l1_penalty: 379.269019073\n",
      "RSS: 4.78132980832e+14\n",
      "nonzeros: 6\n",
      "====================\n",
      "l1_penalty: 545.559478117\n",
      "RSS: 5.31397181867e+14\n",
      "nonzeros: 6\n",
      "====================\n",
      "l1_penalty: 784.759970351\n",
      "RSS: 5.94043306274e+14\n",
      "nonzeros: 5\n",
      "====================\n",
      "l1_penalty: 1128.83789168\n",
      "RSS: 6.74059169986e+14\n",
      "nonzeros: 3\n",
      "====================\n",
      "l1_penalty: 1623.77673919\n",
      "RSS: 8.02609410823e+14\n",
      "nonzeros: 3\n",
      "====================\n",
      "l1_penalty: 2335.72146909\n",
      "RSS: 1.06125525287e+15\n",
      "nonzeros: 2\n",
      "====================\n",
      "l1_penalty: 3359.81828628\n",
      "RSS: 1.22250685943e+15\n",
      "nonzeros: 1\n",
      "====================\n",
      "l1_penalty: 4832.93023857\n",
      "RSS: 1.22250685943e+15\n",
      "nonzeros: 1\n",
      "====================\n",
      "l1_penalty: 6951.92796178\n",
      "RSS: 1.22250685943e+15\n",
      "nonzeros: 1\n",
      "====================\n",
      "l1_penalty: 10000.0\n",
      "RSS: 1.22250685943e+15\n",
      "nonzeros: 1\n"
     ]
    }
   ],
   "source": [
    "nonzeros = list()\n",
    "for l1_penalty in l1_penalties:\n",
    "    model = linear_model.Lasso(alpha=l1_penalty, normalize=True)\n",
    "    model.fit(training[all_features], training['price']) # learn weights\n",
    "    predictions = model.predict(validation[all_features])\n",
    "    RSS = np.sum((predictions - validation['price']) ** 2)\n",
    "    print '===================='\n",
    "    print 'l1_penalty: ' + str(l1_penalty)\n",
    "    print 'RSS: ' + str(RSS)\n",
    "    print 'nonzeros: ' + str(np.count_nonzero(model.coef_) + np.count_nonzero(model.intercept_))\n",
    "    nonzeros.append(np.count_nonzero(model.coef_) + np.count_nonzero(model.intercept_))\n"
   ]
  },
  {
   "cell_type": "code",
   "execution_count": 55,
   "metadata": {
    "collapsed": true
   },
   "outputs": [],
   "source": [
    "l1_penalty_min = 183.298071083\n",
    "l1_penalty_max = 10000.0"
   ]
  },
  {
   "cell_type": "code",
   "execution_count": 56,
   "metadata": {
    "collapsed": false
   },
   "outputs": [
    {
     "name": "stdout",
     "output_type": "stream",
     "text": [
      "====================\n",
      "l1_penalty: 183.298071083\n",
      "RSS: 4.43107216261e+14\n",
      "nonzeros: 7\n",
      "====================\n",
      "l1_penalty: 699.966593658\n",
      "RSS: 5.73440541659e+14\n",
      "nonzeros: 5\n",
      "====================\n",
      "l1_penalty: 1216.63511623\n",
      "RSS: 6.93148642947e+14\n",
      "nonzeros: 3\n",
      "====================\n",
      "l1_penalty: 1733.30363881\n",
      "RSS: 8.37930324858e+14\n",
      "nonzeros: 3\n",
      "====================\n",
      "l1_penalty: 2249.97216138\n",
      "RSS: 1.02773787124e+15\n",
      "nonzeros: 2\n",
      "====================\n",
      "l1_penalty: 2766.64068396\n",
      "RSS: 1.22250685943e+15\n",
      "nonzeros: 1\n",
      "====================\n",
      "l1_penalty: 3283.30920653\n",
      "RSS: 1.22250685943e+15\n",
      "nonzeros: 1\n",
      "====================\n",
      "l1_penalty: 3799.97772911\n",
      "RSS: 1.22250685943e+15\n",
      "nonzeros: 1\n",
      "====================\n",
      "l1_penalty: 4316.64625168\n",
      "RSS: 1.22250685943e+15\n",
      "nonzeros: 1\n",
      "====================\n",
      "l1_penalty: 4833.31477425\n",
      "RSS: 1.22250685943e+15\n",
      "nonzeros: 1\n",
      "====================\n",
      "l1_penalty: 5349.98329683\n",
      "RSS: 1.22250685943e+15\n",
      "nonzeros: 1\n",
      "====================\n",
      "l1_penalty: 5866.6518194\n",
      "RSS: 1.22250685943e+15\n",
      "nonzeros: 1\n",
      "====================\n",
      "l1_penalty: 6383.32034198\n",
      "RSS: 1.22250685943e+15\n",
      "nonzeros: 1\n",
      "====================\n",
      "l1_penalty: 6899.98886455\n",
      "RSS: 1.22250685943e+15\n",
      "nonzeros: 1\n",
      "====================\n",
      "l1_penalty: 7416.65738713\n",
      "RSS: 1.22250685943e+15\n",
      "nonzeros: 1\n",
      "====================\n",
      "l1_penalty: 7933.3259097\n",
      "RSS: 1.22250685943e+15\n",
      "nonzeros: 1\n",
      "====================\n",
      "l1_penalty: 8449.99443228\n",
      "RSS: 1.22250685943e+15\n",
      "nonzeros: 1\n",
      "====================\n",
      "l1_penalty: 8966.66295485\n",
      "RSS: 1.22250685943e+15\n",
      "nonzeros: 1\n",
      "====================\n",
      "l1_penalty: 9483.33147743\n",
      "RSS: 1.22250685943e+15\n",
      "nonzeros: 1\n",
      "====================\n",
      "l1_penalty: 10000.0\n",
      "RSS: 1.22250685943e+15\n",
      "nonzeros: 1\n"
     ]
    }
   ],
   "source": [
    "nonzeros_2 = list()\n",
    "for l1_penalty in np.linspace(l1_penalty_min,l1_penalty_max,20):\n",
    "    model = linear_model.Lasso(alpha=l1_penalty, normalize=True)\n",
    "    model.fit(training[all_features], training['price']) # learn weights\n",
    "    predictions = model.predict(validation[all_features])\n",
    "    RSS = np.sum((predictions - validation['price']) ** 2)\n",
    "    print '===================='\n",
    "    print 'l1_penalty: ' + str(l1_penalty)\n",
    "    print 'RSS: ' + str(RSS)\n",
    "    print 'nonzeros: ' + str(np.count_nonzero(model.coef_) + np.count_nonzero(model.intercept_))\n",
    "    nonzeros_2.append(np.count_nonzero(model.coef_) + np.count_nonzero(model.intercept_))"
   ]
  },
  {
   "cell_type": "code",
   "execution_count": 57,
   "metadata": {
    "collapsed": false
   },
   "outputs": [
    {
     "data": {
      "text/plain": [
       "Lasso(alpha=183.298071083, copy_X=True, fit_intercept=True, max_iter=1000,\n",
       "   normalize=True, positive=False, precompute=False, random_state=None,\n",
       "   selection='cyclic', tol=0.0001, warm_start=False)"
      ]
     },
     "execution_count": 57,
     "metadata": {},
     "output_type": "execute_result"
    }
   ],
   "source": [
    "    model = linear_model.Lasso(alpha=183.298071083, normalize=True)\n",
    "    model.fit(training[all_features], training['price']) # learn weights\n"
   ]
  },
  {
   "cell_type": "code",
   "execution_count": 58,
   "metadata": {
    "collapsed": false
   },
   "outputs": [
    {
     "data": {
      "text/plain": [
       "array([ -0.00000000e+00,  -0.00000000e+00,   4.84964317e+03,\n",
       "         1.65210126e+02,   0.00000000e+00,  -0.00000000e+00,\n",
       "        -0.00000000e+00,   0.00000000e+00,   0.00000000e+00,\n",
       "         4.84780808e+05,   4.14997727e+04,   0.00000000e+00,\n",
       "         1.13406888e+05,   0.00000000e+00,   0.00000000e+00,\n",
       "        -2.41386679e+03,   0.00000000e+00])"
      ]
     },
     "execution_count": 58,
     "metadata": {},
     "output_type": "execute_result"
    }
   ],
   "source": [
    "model.coef_"
   ]
  },
  {
   "cell_type": "code",
   "execution_count": 59,
   "metadata": {
    "collapsed": false
   },
   "outputs": [
    {
     "data": {
      "text/plain": [
       "['bedrooms',\n",
       " 'bedrooms_square',\n",
       " 'bathrooms',\n",
       " 'sqft_living',\n",
       " 'sqft_living_sqrt',\n",
       " 'sqft_lot',\n",
       " 'sqft_lot_sqrt',\n",
       " 'floors',\n",
       " 'floors_square',\n",
       " 'waterfront',\n",
       " 'view',\n",
       " 'condition',\n",
       " 'grade',\n",
       " 'sqft_above',\n",
       " 'sqft_basement',\n",
       " 'yr_built',\n",
       " 'yr_renovated']"
      ]
     },
     "execution_count": 59,
     "metadata": {},
     "output_type": "execute_result"
    }
   ],
   "source": [
    "all_features"
   ]
  },
  {
   "cell_type": "markdown",
   "metadata": {},
   "source": [
    "* bathrooms\n",
    "* sqft_living\n",
    "* waterfront\n",
    "* view\n",
    "* grade\n",
    "* yr_built"
   ]
  },
  {
   "cell_type": "code",
   "execution_count": null,
   "metadata": {
    "collapsed": true
   },
   "outputs": [],
   "source": []
  }
 ],
 "metadata": {
  "kernelspec": {
   "display_name": "Python 2",
   "language": "python",
   "name": "python2"
  },
  "language_info": {
   "codemirror_mode": {
    "name": "ipython",
    "version": 2
   },
   "file_extension": ".py",
   "mimetype": "text/x-python",
   "name": "python",
   "nbconvert_exporter": "python",
   "pygments_lexer": "ipython2",
   "version": "2.7.11"
  }
 },
 "nbformat": 4,
 "nbformat_minor": 0
}
